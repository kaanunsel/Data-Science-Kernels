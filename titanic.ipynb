{
 "cells": [
  {
   "cell_type": "markdown",
   "id": "7ba2725e",
   "metadata": {
    "papermill": {
     "duration": 0.010775,
     "end_time": "2025-01-26T23:33:46.988904",
     "exception": false,
     "start_time": "2025-01-26T23:33:46.978129",
     "status": "completed"
    },
    "tags": []
   },
   "source": [
    "# Titanic: Data Analysis and Survival Predictions\n",
    "\n",
    "The Titanic disaster of **1912** remains one of the most infamous tragedies in maritime history, making it a compelling dataset for data science enthusiasts and practitioners. In this notebook, I will explore the **Titanic dataset**, analyze key features, and apply data science techniques to uncover insights and predict survival outcomes.\n",
    "\n",
    "## Goals of this Notebook\n",
    "\n",
    "1. **Understand the Dataset**: Perform exploratory data analysis (EDA) to uncover patterns, trends, and relationships in the data.  \n",
    "2. **Feature Engineering**: Transform raw data into meaningful features for predictive modeling.  \n",
    "3. **Model Development**: Build, evaluate, and optimize machine learning models to predict passenger survival with accuracy.  \n",
    "4. **Data Visualization**: Use visual storytelling to make findings intuitive and engaging.  \n",
    "\n",
    "## Why the Titanic Dataset?\n",
    "\n",
    "The Titanic dataset is a classic introduction to:  \n",
    "- **Data cleaning**: Handling missing data, outliers, and inconsistent entries.  \n",
    "- **Exploratory Data Analysis (EDA)**: Unveiling relationships between variables like age, gender, ticket class, and survival.  \n",
    "- **Predictive Modeling**: Applying classification techniques to predict a binary outcome (survival: yes/no).  \n",
    "- **Real-world relevance**: Tackling challenges often found in real-world datasets.  "
   ]
  },
  {
   "cell_type": "code",
   "execution_count": 1,
   "id": "44649a88",
   "metadata": {
    "_cell_guid": "b1076dfc-b9ad-4769-8c92-a6c4dae69d19",
    "_uuid": "8f2839f25d086af736a60e9eeb907d3b93b6e0e5",
    "execution": {
     "iopub.execute_input": "2025-01-26T23:33:47.008112Z",
     "iopub.status.busy": "2025-01-26T23:33:47.007709Z",
     "iopub.status.idle": "2025-01-26T23:33:49.756561Z",
     "shell.execute_reply": "2025-01-26T23:33:49.754931Z"
    },
    "papermill": {
     "duration": 2.761338,
     "end_time": "2025-01-26T23:33:49.758698",
     "exception": false,
     "start_time": "2025-01-26T23:33:46.997360",
     "status": "completed"
    },
    "tags": []
   },
   "outputs": [
    {
     "name": "stdout",
     "output_type": "stream",
     "text": [
      "/kaggle/input/titanic/train.csv\n",
      "/kaggle/input/titanic/test.csv\n",
      "/kaggle/input/titanic/gender_submission.csv\n"
     ]
    }
   ],
   "source": [
    "# This Python 3 environment comes with many helpful analytics libraries installed\n",
    "# It is defined by the kaggle/python Docker image: https://github.com/kaggle/docker-python\n",
    "# For example, here's several helpful packages to load\n",
    "\n",
    "import numpy as np # linear algebra\n",
    "import pandas as pd # data processing, CSV file I/O (e.g. pd.read_csv)\n",
    "import matplotlib.pyplot as plt\n",
    "import seaborn as sns\n",
    "sns.set_style(\"whitegrid\")\n",
    "\n",
    "from collections import Counter\n",
    "\n",
    "pd.options.display.float_format = '{:.2f}'.format\n",
    "\n",
    "import warnings\n",
    "warnings.filterwarnings(\"ignore\")\n",
    "\n",
    "# Input data files are available in the read-only \"../input/\" directory\n",
    "# For example, running this (by clicking run or pressing Shift+Enter) will list all files under the input directory\n",
    "\n",
    "import os\n",
    "for dirname, _, filenames in os.walk('/kaggle/input'):\n",
    "    for filename in filenames:\n",
    "        print(os.path.join(dirname, filename))\n",
    "\n",
    "# You can write up to 20GB to the current directory (/kaggle/working/) that gets preserved as output when you create a version using \"Save & Run All\" \n",
    "# You can also write temporary files to /kaggle/temp/, but they won't be saved outside of the current session"
   ]
  },
  {
   "cell_type": "code",
   "execution_count": 2,
   "id": "4f2ec101",
   "metadata": {
    "execution": {
     "iopub.execute_input": "2025-01-26T23:33:49.777790Z",
     "iopub.status.busy": "2025-01-26T23:33:49.777165Z",
     "iopub.status.idle": "2025-01-26T23:33:49.809727Z",
     "shell.execute_reply": "2025-01-26T23:33:49.808470Z"
    },
    "papermill": {
     "duration": 0.044376,
     "end_time": "2025-01-26T23:33:49.811801",
     "exception": false,
     "start_time": "2025-01-26T23:33:49.767425",
     "status": "completed"
    },
    "tags": []
   },
   "outputs": [],
   "source": [
    "train_df = pd.read_csv(\"/kaggle/input/titanic/train.csv\")\n",
    "test_df = pd.read_csv(\"/kaggle/input/titanic/test.csv\")"
   ]
  },
  {
   "cell_type": "code",
   "execution_count": 3,
   "id": "18cc847e",
   "metadata": {
    "execution": {
     "iopub.execute_input": "2025-01-26T23:33:49.831221Z",
     "iopub.status.busy": "2025-01-26T23:33:49.830800Z",
     "iopub.status.idle": "2025-01-26T23:33:49.864159Z",
     "shell.execute_reply": "2025-01-26T23:33:49.862923Z"
    },
    "papermill": {
     "duration": 0.045631,
     "end_time": "2025-01-26T23:33:49.866338",
     "exception": false,
     "start_time": "2025-01-26T23:33:49.820707",
     "status": "completed"
    },
    "tags": []
   },
   "outputs": [
    {
     "name": "stdout",
     "output_type": "stream",
     "text": [
      "<class 'pandas.core.frame.DataFrame'>\n",
      "RangeIndex: 891 entries, 0 to 890\n",
      "Data columns (total 12 columns):\n",
      " #   Column       Non-Null Count  Dtype  \n",
      "---  ------       --------------  -----  \n",
      " 0   PassengerId  891 non-null    int64  \n",
      " 1   Survived     891 non-null    int64  \n",
      " 2   Pclass       891 non-null    int64  \n",
      " 3   Name         891 non-null    object \n",
      " 4   Sex          891 non-null    object \n",
      " 5   Age          714 non-null    float64\n",
      " 6   SibSp        891 non-null    int64  \n",
      " 7   Parch        891 non-null    int64  \n",
      " 8   Ticket       891 non-null    object \n",
      " 9   Fare         891 non-null    float64\n",
      " 10  Cabin        204 non-null    object \n",
      " 11  Embarked     889 non-null    object \n",
      "dtypes: float64(2), int64(5), object(5)\n",
      "memory usage: 83.7+ KB\n"
     ]
    }
   ],
   "source": [
    "train_df.info()"
   ]
  },
  {
   "cell_type": "code",
   "execution_count": 4,
   "id": "3f99f851",
   "metadata": {
    "execution": {
     "iopub.execute_input": "2025-01-26T23:33:49.884622Z",
     "iopub.status.busy": "2025-01-26T23:33:49.884151Z",
     "iopub.status.idle": "2025-01-26T23:33:49.906394Z",
     "shell.execute_reply": "2025-01-26T23:33:49.905003Z"
    },
    "papermill": {
     "duration": 0.033829,
     "end_time": "2025-01-26T23:33:49.908508",
     "exception": false,
     "start_time": "2025-01-26T23:33:49.874679",
     "status": "completed"
    },
    "tags": []
   },
   "outputs": [
    {
     "data": {
      "text/html": [
       "<div>\n",
       "<style scoped>\n",
       "    .dataframe tbody tr th:only-of-type {\n",
       "        vertical-align: middle;\n",
       "    }\n",
       "\n",
       "    .dataframe tbody tr th {\n",
       "        vertical-align: top;\n",
       "    }\n",
       "\n",
       "    .dataframe thead th {\n",
       "        text-align: right;\n",
       "    }\n",
       "</style>\n",
       "<table border=\"1\" class=\"dataframe\">\n",
       "  <thead>\n",
       "    <tr style=\"text-align: right;\">\n",
       "      <th></th>\n",
       "      <th>PassengerId</th>\n",
       "      <th>Survived</th>\n",
       "      <th>Pclass</th>\n",
       "      <th>Name</th>\n",
       "      <th>Sex</th>\n",
       "      <th>Age</th>\n",
       "      <th>SibSp</th>\n",
       "      <th>Parch</th>\n",
       "      <th>Ticket</th>\n",
       "      <th>Fare</th>\n",
       "      <th>Cabin</th>\n",
       "      <th>Embarked</th>\n",
       "    </tr>\n",
       "  </thead>\n",
       "  <tbody>\n",
       "    <tr>\n",
       "      <th>0</th>\n",
       "      <td>1</td>\n",
       "      <td>0</td>\n",
       "      <td>3</td>\n",
       "      <td>Braund, Mr. Owen Harris</td>\n",
       "      <td>male</td>\n",
       "      <td>22.00</td>\n",
       "      <td>1</td>\n",
       "      <td>0</td>\n",
       "      <td>A/5 21171</td>\n",
       "      <td>7.25</td>\n",
       "      <td>NaN</td>\n",
       "      <td>S</td>\n",
       "    </tr>\n",
       "    <tr>\n",
       "      <th>1</th>\n",
       "      <td>2</td>\n",
       "      <td>1</td>\n",
       "      <td>1</td>\n",
       "      <td>Cumings, Mrs. John Bradley (Florence Briggs Th...</td>\n",
       "      <td>female</td>\n",
       "      <td>38.00</td>\n",
       "      <td>1</td>\n",
       "      <td>0</td>\n",
       "      <td>PC 17599</td>\n",
       "      <td>71.28</td>\n",
       "      <td>C85</td>\n",
       "      <td>C</td>\n",
       "    </tr>\n",
       "    <tr>\n",
       "      <th>2</th>\n",
       "      <td>3</td>\n",
       "      <td>1</td>\n",
       "      <td>3</td>\n",
       "      <td>Heikkinen, Miss. Laina</td>\n",
       "      <td>female</td>\n",
       "      <td>26.00</td>\n",
       "      <td>0</td>\n",
       "      <td>0</td>\n",
       "      <td>STON/O2. 3101282</td>\n",
       "      <td>7.92</td>\n",
       "      <td>NaN</td>\n",
       "      <td>S</td>\n",
       "    </tr>\n",
       "    <tr>\n",
       "      <th>3</th>\n",
       "      <td>4</td>\n",
       "      <td>1</td>\n",
       "      <td>1</td>\n",
       "      <td>Futrelle, Mrs. Jacques Heath (Lily May Peel)</td>\n",
       "      <td>female</td>\n",
       "      <td>35.00</td>\n",
       "      <td>1</td>\n",
       "      <td>0</td>\n",
       "      <td>113803</td>\n",
       "      <td>53.10</td>\n",
       "      <td>C123</td>\n",
       "      <td>S</td>\n",
       "    </tr>\n",
       "    <tr>\n",
       "      <th>4</th>\n",
       "      <td>5</td>\n",
       "      <td>0</td>\n",
       "      <td>3</td>\n",
       "      <td>Allen, Mr. William Henry</td>\n",
       "      <td>male</td>\n",
       "      <td>35.00</td>\n",
       "      <td>0</td>\n",
       "      <td>0</td>\n",
       "      <td>373450</td>\n",
       "      <td>8.05</td>\n",
       "      <td>NaN</td>\n",
       "      <td>S</td>\n",
       "    </tr>\n",
       "  </tbody>\n",
       "</table>\n",
       "</div>"
      ],
      "text/plain": [
       "   PassengerId  Survived  Pclass  \\\n",
       "0            1         0       3   \n",
       "1            2         1       1   \n",
       "2            3         1       3   \n",
       "3            4         1       1   \n",
       "4            5         0       3   \n",
       "\n",
       "                                                Name     Sex   Age  SibSp  \\\n",
       "0                            Braund, Mr. Owen Harris    male 22.00      1   \n",
       "1  Cumings, Mrs. John Bradley (Florence Briggs Th...  female 38.00      1   \n",
       "2                             Heikkinen, Miss. Laina  female 26.00      0   \n",
       "3       Futrelle, Mrs. Jacques Heath (Lily May Peel)  female 35.00      1   \n",
       "4                           Allen, Mr. William Henry    male 35.00      0   \n",
       "\n",
       "   Parch            Ticket  Fare Cabin Embarked  \n",
       "0      0         A/5 21171  7.25   NaN        S  \n",
       "1      0          PC 17599 71.28   C85        C  \n",
       "2      0  STON/O2. 3101282  7.92   NaN        S  \n",
       "3      0            113803 53.10  C123        S  \n",
       "4      0            373450  8.05   NaN        S  "
      ]
     },
     "execution_count": 4,
     "metadata": {},
     "output_type": "execute_result"
    }
   ],
   "source": [
    "train_df.head()"
   ]
  },
  {
   "cell_type": "code",
   "execution_count": 5,
   "id": "0757ce2a",
   "metadata": {
    "execution": {
     "iopub.execute_input": "2025-01-26T23:33:49.927246Z",
     "iopub.status.busy": "2025-01-26T23:33:49.926808Z",
     "iopub.status.idle": "2025-01-26T23:33:49.956036Z",
     "shell.execute_reply": "2025-01-26T23:33:49.954668Z"
    },
    "papermill": {
     "duration": 0.040634,
     "end_time": "2025-01-26T23:33:49.957938",
     "exception": false,
     "start_time": "2025-01-26T23:33:49.917304",
     "status": "completed"
    },
    "tags": []
   },
   "outputs": [
    {
     "data": {
      "text/html": [
       "<div>\n",
       "<style scoped>\n",
       "    .dataframe tbody tr th:only-of-type {\n",
       "        vertical-align: middle;\n",
       "    }\n",
       "\n",
       "    .dataframe tbody tr th {\n",
       "        vertical-align: top;\n",
       "    }\n",
       "\n",
       "    .dataframe thead th {\n",
       "        text-align: right;\n",
       "    }\n",
       "</style>\n",
       "<table border=\"1\" class=\"dataframe\">\n",
       "  <thead>\n",
       "    <tr style=\"text-align: right;\">\n",
       "      <th></th>\n",
       "      <th>PassengerId</th>\n",
       "      <th>Survived</th>\n",
       "      <th>Pclass</th>\n",
       "      <th>Age</th>\n",
       "      <th>SibSp</th>\n",
       "      <th>Parch</th>\n",
       "      <th>Fare</th>\n",
       "    </tr>\n",
       "  </thead>\n",
       "  <tbody>\n",
       "    <tr>\n",
       "      <th>count</th>\n",
       "      <td>891.00</td>\n",
       "      <td>891.00</td>\n",
       "      <td>891.00</td>\n",
       "      <td>714.00</td>\n",
       "      <td>891.00</td>\n",
       "      <td>891.00</td>\n",
       "      <td>891.00</td>\n",
       "    </tr>\n",
       "    <tr>\n",
       "      <th>mean</th>\n",
       "      <td>446.00</td>\n",
       "      <td>0.38</td>\n",
       "      <td>2.31</td>\n",
       "      <td>29.70</td>\n",
       "      <td>0.52</td>\n",
       "      <td>0.38</td>\n",
       "      <td>32.20</td>\n",
       "    </tr>\n",
       "    <tr>\n",
       "      <th>std</th>\n",
       "      <td>257.35</td>\n",
       "      <td>0.49</td>\n",
       "      <td>0.84</td>\n",
       "      <td>14.53</td>\n",
       "      <td>1.10</td>\n",
       "      <td>0.81</td>\n",
       "      <td>49.69</td>\n",
       "    </tr>\n",
       "    <tr>\n",
       "      <th>min</th>\n",
       "      <td>1.00</td>\n",
       "      <td>0.00</td>\n",
       "      <td>1.00</td>\n",
       "      <td>0.42</td>\n",
       "      <td>0.00</td>\n",
       "      <td>0.00</td>\n",
       "      <td>0.00</td>\n",
       "    </tr>\n",
       "    <tr>\n",
       "      <th>25%</th>\n",
       "      <td>223.50</td>\n",
       "      <td>0.00</td>\n",
       "      <td>2.00</td>\n",
       "      <td>20.12</td>\n",
       "      <td>0.00</td>\n",
       "      <td>0.00</td>\n",
       "      <td>7.91</td>\n",
       "    </tr>\n",
       "    <tr>\n",
       "      <th>50%</th>\n",
       "      <td>446.00</td>\n",
       "      <td>0.00</td>\n",
       "      <td>3.00</td>\n",
       "      <td>28.00</td>\n",
       "      <td>0.00</td>\n",
       "      <td>0.00</td>\n",
       "      <td>14.45</td>\n",
       "    </tr>\n",
       "    <tr>\n",
       "      <th>75%</th>\n",
       "      <td>668.50</td>\n",
       "      <td>1.00</td>\n",
       "      <td>3.00</td>\n",
       "      <td>38.00</td>\n",
       "      <td>1.00</td>\n",
       "      <td>0.00</td>\n",
       "      <td>31.00</td>\n",
       "    </tr>\n",
       "    <tr>\n",
       "      <th>max</th>\n",
       "      <td>891.00</td>\n",
       "      <td>1.00</td>\n",
       "      <td>3.00</td>\n",
       "      <td>80.00</td>\n",
       "      <td>8.00</td>\n",
       "      <td>6.00</td>\n",
       "      <td>512.33</td>\n",
       "    </tr>\n",
       "  </tbody>\n",
       "</table>\n",
       "</div>"
      ],
      "text/plain": [
       "       PassengerId  Survived  Pclass    Age  SibSp  Parch   Fare\n",
       "count       891.00    891.00  891.00 714.00 891.00 891.00 891.00\n",
       "mean        446.00      0.38    2.31  29.70   0.52   0.38  32.20\n",
       "std         257.35      0.49    0.84  14.53   1.10   0.81  49.69\n",
       "min           1.00      0.00    1.00   0.42   0.00   0.00   0.00\n",
       "25%         223.50      0.00    2.00  20.12   0.00   0.00   7.91\n",
       "50%         446.00      0.00    3.00  28.00   0.00   0.00  14.45\n",
       "75%         668.50      1.00    3.00  38.00   1.00   0.00  31.00\n",
       "max         891.00      1.00    3.00  80.00   8.00   6.00 512.33"
      ]
     },
     "execution_count": 5,
     "metadata": {},
     "output_type": "execute_result"
    }
   ],
   "source": [
    "train_df.describe()"
   ]
  },
  {
   "cell_type": "markdown",
   "id": "7b3d0696",
   "metadata": {
    "papermill": {
     "duration": 0.008373,
     "end_time": "2025-01-26T23:33:49.975617",
     "exception": false,
     "start_time": "2025-01-26T23:33:49.967244",
     "status": "completed"
    },
    "tags": []
   },
   "source": [
    "# Variable Description\n",
    "\n",
    "| **Variable** | **Definition**                              | **Key**                                      |\n",
    "|--------------|--------------------------------------------|---------------------------------------------|\n",
    "| survival     | Survival                                   | 0 = No, 1 = Yes                             |\n",
    "| pclass       | Ticket class                               | 1 = 1st, 2 = 2nd, 3 = 3rd                   |\n",
    "| sex          | Sex                                        | -                                           |\n",
    "| Age          | Age in years                               | -                                           |\n",
    "| sibsp        | # of siblings/spouses aboard the Titanic   | -                                           |\n",
    "| parch        | # of parents/children aboard the Titanic   | -                                           |\n",
    "| ticket       | Ticket number                              | -                                           |\n",
    "| fare         | Passenger fare                             | -                                           |\n",
    "| cabin        | Cabin number                               | -                                           |\n",
    "| embarked     | Port of Embarkation                       | C = Cherbourg, Q = Queenstown, S = Southampton |"
   ]
  },
  {
   "cell_type": "markdown",
   "id": "dc83f4f7",
   "metadata": {
    "papermill": {
     "duration": 0.008352,
     "end_time": "2025-01-26T23:33:49.992502",
     "exception": false,
     "start_time": "2025-01-26T23:33:49.984150",
     "status": "completed"
    },
    "tags": []
   },
   "source": [
    "# Categorical Variables"
   ]
  },
  {
   "cell_type": "code",
   "execution_count": 6,
   "id": "d849f1da",
   "metadata": {
    "execution": {
     "iopub.execute_input": "2025-01-26T23:33:50.011410Z",
     "iopub.status.busy": "2025-01-26T23:33:50.010954Z",
     "iopub.status.idle": "2025-01-26T23:33:50.017301Z",
     "shell.execute_reply": "2025-01-26T23:33:50.015980Z"
    },
    "papermill": {
     "duration": 0.018212,
     "end_time": "2025-01-26T23:33:50.019222",
     "exception": false,
     "start_time": "2025-01-26T23:33:50.001010",
     "status": "completed"
    },
    "tags": []
   },
   "outputs": [],
   "source": [
    "def plot_bar(variable):\n",
    "    # get feature\n",
    "    var = train_df[variable]\n",
    "    # count number of categorical variables \n",
    "    varValue = var.value_counts()\n",
    "    # visualize\n",
    "    plt.figure(figsize=(9,3))\n",
    "    plt.bar(varValue.index,varValue)\n",
    "    plt.xticks(varValue.index, varValue.index.values)\n",
    "    plt.ylabel(\"Frequency\")\n",
    "    plt.title(variable)\n",
    "    plt.show()\n",
    "    print(\"{}: \\n {}\".format(variable, varValue))"
   ]
  },
  {
   "cell_type": "code",
   "execution_count": 7,
   "id": "30e2744c",
   "metadata": {
    "execution": {
     "iopub.execute_input": "2025-01-26T23:33:50.039560Z",
     "iopub.status.busy": "2025-01-26T23:33:50.038998Z",
     "iopub.status.idle": "2025-01-26T23:33:51.275607Z",
     "shell.execute_reply": "2025-01-26T23:33:51.273675Z"
    },
    "papermill": {
     "duration": 1.248663,
     "end_time": "2025-01-26T23:33:51.277686",
     "exception": false,
     "start_time": "2025-01-26T23:33:50.029023",
     "status": "completed"
    },
    "tags": []
   },
   "outputs": [
    {
     "data": {
      "image/png": "[encoded data removed]",
      "text/plain": [
       "<Figure size 900x300 with 1 Axes>"
      ]
     },
     "metadata": {},
     "output_type": "display_data"
    },
    {
     "name": "stdout",
     "output_type": "stream",
     "text": [
      "Survived: \n",
      " Survived\n",
      "0    549\n",
      "1    342\n",
      "Name: count, dtype: int64\n"
     ]
    },
    {
     "data": {
      "image/png": "[encoded data removed]",
      "text/plain": [
       "<Figure size 900x300 with 1 Axes>"
      ]
     },
     "metadata": {},
     "output_type": "display_data"
    },
    {
     "name": "stdout",
     "output_type": "stream",
     "text": [
      "Sex: \n",
      " Sex\n",
      "male      577\n",
      "female    314\n",
      "Name: count, dtype: int64\n"
     ]
    },
    {
     "data": {
      "image/png": "[encoded data removed]",
      "text/plain": [
       "<Figure size 900x300 with 1 Axes>"
      ]
     },
     "metadata": {},
     "output_type": "display_data"
    },
    {
     "name": "stdout",
     "output_type": "stream",
     "text": [
      "Pclass: \n",
      " Pclass\n",
      "3    491\n",
      "1    216\n",
      "2    184\n",
      "Name: count, dtype: int64\n"
     ]
    },
    {
     "data": {
      "image/png": "[encoded data removed]",
      "text/plain": [
       "<Figure size 900x300 with 1 Axes>"
      ]
     },
     "metadata": {},
     "output_type": "display_data"
    },
    {
     "name": "stdout",
     "output_type": "stream",
     "text": [
      "Embarked: \n",
      " Embarked\n",
      "S    644\n",
      "C    168\n",
      "Q     77\n",
      "Name: count, dtype: int64\n"
     ]
    },
    {
     "data": {
      "image/png": "[encoded data removed]",
      "text/plain": [
       "<Figure size 900x300 with 1 Axes>"
      ]
     },
     "metadata": {},
     "output_type": "display_data"
    },
    {
     "name": "stdout",
     "output_type": "stream",
     "text": [
      "SibSp: \n",
      " SibSp\n",
      "0    608\n",
      "1    209\n",
      "2     28\n",
      "4     18\n",
      "3     16\n",
      "8      7\n",
      "5      5\n",
      "Name: count, dtype: int64\n"
     ]
    },
    {
     "data": {
      "image/png": "[encoded data removed]",
      "text/plain": [
       "<Figure size 900x300 with 1 Axes>"
      ]
     },
     "metadata": {},
     "output_type": "display_data"
    },
    {
     "name": "stdout",
     "output_type": "stream",
     "text": [
      "Parch: \n",
      " Parch\n",
      "0    678\n",
      "1    118\n",
      "2     80\n",
      "5      5\n",
      "3      5\n",
      "4      4\n",
      "6      1\n",
      "Name: count, dtype: int64\n"
     ]
    }
   ],
   "source": [
    "category1 = [\"Survived\", \"Sex\", \"Pclass\", \"Embarked\", \"SibSp\", \"Parch\"]\n",
    "\n",
    "for c in category1:\n",
    "    plot_bar(c)"
   ]
  },
  {
   "cell_type": "code",
   "execution_count": 8,
   "id": "4457f61f",
   "metadata": {
    "execution": {
     "iopub.execute_input": "2025-01-26T23:33:51.304077Z",
     "iopub.status.busy": "2025-01-26T23:33:51.303601Z",
     "iopub.status.idle": "2025-01-26T23:33:51.317807Z",
     "shell.execute_reply": "2025-01-26T23:33:51.316252Z"
    },
    "papermill": {
     "duration": 0.028975,
     "end_time": "2025-01-26T23:33:51.319504",
     "exception": false,
     "start_time": "2025-01-26T23:33:51.290529",
     "status": "completed"
    },
    "tags": []
   },
   "outputs": [
    {
     "name": "stdout",
     "output_type": "stream",
     "text": [
      "Cabin\n",
      "B96 B98        4\n",
      "G6             4\n",
      "C23 C25 C27    4\n",
      "C22 C26        3\n",
      "F33            3\n",
      "              ..\n",
      "E34            1\n",
      "C7             1\n",
      "C54            1\n",
      "E36            1\n",
      "C148           1\n",
      "Name: count, Length: 147, dtype: int64\n",
      "**************************************************\n",
      "Name\n",
      "Braund, Mr. Owen Harris                     1\n",
      "Boulos, Mr. Hanna                           1\n",
      "Frolicher-Stehli, Mr. Maxmillian            1\n",
      "Gilinski, Mr. Eliezer                       1\n",
      "Murdlin, Mr. Joseph                         1\n",
      "                                           ..\n",
      "Kelly, Miss. Anna Katherine \"Annie Kate\"    1\n",
      "McCoy, Mr. Bernard                          1\n",
      "Johnson, Mr. William Cahoone Jr             1\n",
      "Keane, Miss. Nora A                         1\n",
      "Dooley, Mr. Patrick                         1\n",
      "Name: count, Length: 891, dtype: int64\n",
      "**************************************************\n",
      "Ticket\n",
      "347082      7\n",
      "CA. 2343    7\n",
      "1601        7\n",
      "3101295     6\n",
      "CA 2144     6\n",
      "           ..\n",
      "9234        1\n",
      "19988       1\n",
      "2693        1\n",
      "PC 17612    1\n",
      "370376      1\n",
      "Name: count, Length: 681, dtype: int64\n",
      "**************************************************\n"
     ]
    }
   ],
   "source": [
    "category2 = [\"Cabin\", \"Name\", \"Ticket\"]\n",
    "for c in category2:\n",
    "    print(\"{}\".format(train_df[c].value_counts()))\n",
    "    print(\"*\"*50)"
   ]
  },
  {
   "cell_type": "markdown",
   "id": "a4f3c119",
   "metadata": {
    "papermill": {
     "duration": 0.010489,
     "end_time": "2025-01-26T23:33:51.341018",
     "exception": false,
     "start_time": "2025-01-26T23:33:51.330529",
     "status": "completed"
    },
    "tags": []
   },
   "source": [
    "# Numerical Variables"
   ]
  },
  {
   "cell_type": "code",
   "execution_count": 9,
   "id": "df420631",
   "metadata": {
    "execution": {
     "iopub.execute_input": "2025-01-26T23:33:51.364479Z",
     "iopub.status.busy": "2025-01-26T23:33:51.364050Z",
     "iopub.status.idle": "2025-01-26T23:33:51.369587Z",
     "shell.execute_reply": "2025-01-26T23:33:51.368529Z"
    },
    "papermill": {
     "duration": 0.019485,
     "end_time": "2025-01-26T23:33:51.371295",
     "exception": false,
     "start_time": "2025-01-26T23:33:51.351810",
     "status": "completed"
    },
    "tags": []
   },
   "outputs": [],
   "source": [
    "def plot_hist(variable):\n",
    "    plt.figure(figsize = (9,3))\n",
    "    plt.hist(train_df[variable], bins = 50)\n",
    "    plt.xlabel(variable)\n",
    "    plt.ylabel(\"Frequency\")\n",
    "    plt.title(\"{} distribution with histogram\".format(variable))\n",
    "    plt.show()"
   ]
  },
  {
   "cell_type": "code",
   "execution_count": 10,
   "id": "8a97c681",
   "metadata": {
    "execution": {
     "iopub.execute_input": "2025-01-26T23:33:51.394528Z",
     "iopub.status.busy": "2025-01-26T23:33:51.394112Z",
     "iopub.status.idle": "2025-01-26T23:33:52.579581Z",
     "shell.execute_reply": "2025-01-26T23:33:52.578257Z"
    },
    "papermill": {
     "duration": 1.199527,
     "end_time": "2025-01-26T23:33:52.581731",
     "exception": false,
     "start_time": "2025-01-26T23:33:51.382204",
     "status": "completed"
    },
    "tags": []
   },
   "outputs": [
    {
     "data": {
      "image/png": "[encoded data removed]",
      "text/plain": [
       "<Figure size 900x300 with 1 Axes>"
      ]
     },
     "metadata": {},
     "output_type": "display_data"
    },
    {
     "data": {
      "image/png": "[encoded data removed]",
      "text/plain": [
       "<Figure size 900x300 with 1 Axes>"
      ]
     },
     "metadata": {},
     "output_type": "display_data"
    },
    {
     "data": {
      "image/png": "[encoded data removed]",
      "text/plain": [
       "<Figure size 900x300 with 1 Axes>"
      ]
     },
     "metadata": {},
     "output_type": "display_data"
    }
   ],
   "source": [
    "numericVar = [\"Fare\", \"Age\", \"PassengerId\"]\n",
    "\n",
    "for n in numericVar:\n",
    "    plot_hist(n)"
   ]
  },
  {
   "cell_type": "markdown",
   "id": "746fd4c1",
   "metadata": {
    "papermill": {
     "duration": 0.013323,
     "end_time": "2025-01-26T23:33:52.609905",
     "exception": false,
     "start_time": "2025-01-26T23:33:52.596582",
     "status": "completed"
    },
    "tags": []
   },
   "source": [
    "# Basic Data Analysis\n",
    "\n",
    "* Pclass - Survived\n",
    "* Sex - Survived\n",
    "* SibSp - Survived\n",
    "* Parch - Survived\n",
    "* IsAdult - Survived"
   ]
  },
  {
   "cell_type": "code",
   "execution_count": 11,
   "id": "a08d772f",
   "metadata": {
    "execution": {
     "iopub.execute_input": "2025-01-26T23:33:52.637270Z",
     "iopub.status.busy": "2025-01-26T23:33:52.636852Z",
     "iopub.status.idle": "2025-01-26T23:33:52.649845Z",
     "shell.execute_reply": "2025-01-26T23:33:52.648833Z"
    },
    "papermill": {
     "duration": 0.02868,
     "end_time": "2025-01-26T23:33:52.651466",
     "exception": false,
     "start_time": "2025-01-26T23:33:52.622786",
     "status": "completed"
    },
    "tags": []
   },
   "outputs": [
    {
     "data": {
      "text/html": [
       "<div>\n",
       "<style scoped>\n",
       "    .dataframe tbody tr th:only-of-type {\n",
       "        vertical-align: middle;\n",
       "    }\n",
       "\n",
       "    .dataframe tbody tr th {\n",
       "        vertical-align: top;\n",
       "    }\n",
       "\n",
       "    .dataframe thead th {\n",
       "        text-align: right;\n",
       "    }\n",
       "</style>\n",
       "<table border=\"1\" class=\"dataframe\">\n",
       "  <thead>\n",
       "    <tr style=\"text-align: right;\">\n",
       "      <th></th>\n",
       "      <th>Survived</th>\n",
       "    </tr>\n",
       "    <tr>\n",
       "      <th>Pclass</th>\n",
       "      <th></th>\n",
       "    </tr>\n",
       "  </thead>\n",
       "  <tbody>\n",
       "    <tr>\n",
       "      <th>1</th>\n",
       "      <td>0.63</td>\n",
       "    </tr>\n",
       "    <tr>\n",
       "      <th>2</th>\n",
       "      <td>0.47</td>\n",
       "    </tr>\n",
       "    <tr>\n",
       "      <th>3</th>\n",
       "      <td>0.24</td>\n",
       "    </tr>\n",
       "  </tbody>\n",
       "</table>\n",
       "</div>"
      ],
      "text/plain": [
       "        Survived\n",
       "Pclass          \n",
       "1           0.63\n",
       "2           0.47\n",
       "3           0.24"
      ]
     },
     "execution_count": 11,
     "metadata": {},
     "output_type": "execute_result"
    }
   ],
   "source": [
    "# Pclass vs Survived\n",
    "\n",
    "train_df[[\"Pclass\", \"Survived\"]].groupby(by=\"Pclass\").mean()"
   ]
  },
  {
   "cell_type": "code",
   "execution_count": 12,
   "id": "b57355ea",
   "metadata": {
    "execution": {
     "iopub.execute_input": "2025-01-26T23:33:52.678677Z",
     "iopub.status.busy": "2025-01-26T23:33:52.678336Z",
     "iopub.status.idle": "2025-01-26T23:33:52.690834Z",
     "shell.execute_reply": "2025-01-26T23:33:52.689742Z"
    },
    "papermill": {
     "duration": 0.027987,
     "end_time": "2025-01-26T23:33:52.692572",
     "exception": false,
     "start_time": "2025-01-26T23:33:52.664585",
     "status": "completed"
    },
    "tags": []
   },
   "outputs": [
    {
     "data": {
      "text/html": [
       "<div>\n",
       "<style scoped>\n",
       "    .dataframe tbody tr th:only-of-type {\n",
       "        vertical-align: middle;\n",
       "    }\n",
       "\n",
       "    .dataframe tbody tr th {\n",
       "        vertical-align: top;\n",
       "    }\n",
       "\n",
       "    .dataframe thead th {\n",
       "        text-align: right;\n",
       "    }\n",
       "</style>\n",
       "<table border=\"1\" class=\"dataframe\">\n",
       "  <thead>\n",
       "    <tr style=\"text-align: right;\">\n",
       "      <th></th>\n",
       "      <th>Survived</th>\n",
       "    </tr>\n",
       "    <tr>\n",
       "      <th>Sex</th>\n",
       "      <th></th>\n",
       "    </tr>\n",
       "  </thead>\n",
       "  <tbody>\n",
       "    <tr>\n",
       "      <th>female</th>\n",
       "      <td>0.74</td>\n",
       "    </tr>\n",
       "    <tr>\n",
       "      <th>male</th>\n",
       "      <td>0.19</td>\n",
       "    </tr>\n",
       "  </tbody>\n",
       "</table>\n",
       "</div>"
      ],
      "text/plain": [
       "        Survived\n",
       "Sex             \n",
       "female      0.74\n",
       "male        0.19"
      ]
     },
     "execution_count": 12,
     "metadata": {},
     "output_type": "execute_result"
    }
   ],
   "source": [
    "# Sex vs Survived\n",
    "\n",
    "train_df[[\"Sex\", \"Survived\"]].groupby(by=\"Sex\").mean()"
   ]
  },
  {
   "cell_type": "markdown",
   "id": "6aa7d5bb",
   "metadata": {
    "papermill": {
     "duration": 0.014191,
     "end_time": "2025-01-26T23:33:52.720055",
     "exception": false,
     "start_time": "2025-01-26T23:33:52.705864",
     "status": "completed"
    },
    "tags": []
   },
   "source": [
    "# Adding a new feature to analyze survival rates between age groups"
   ]
  },
  {
   "cell_type": "code",
   "execution_count": 13,
   "id": "914b5c45",
   "metadata": {
    "execution": {
     "iopub.execute_input": "2025-01-26T23:33:52.747202Z",
     "iopub.status.busy": "2025-01-26T23:33:52.746795Z",
     "iopub.status.idle": "2025-01-26T23:33:52.763663Z",
     "shell.execute_reply": "2025-01-26T23:33:52.762280Z"
    },
    "papermill": {
     "duration": 0.032524,
     "end_time": "2025-01-26T23:33:52.765463",
     "exception": false,
     "start_time": "2025-01-26T23:33:52.732939",
     "status": "completed"
    },
    "tags": []
   },
   "outputs": [
    {
     "data": {
      "text/html": [
       "<div>\n",
       "<style scoped>\n",
       "    .dataframe tbody tr th:only-of-type {\n",
       "        vertical-align: middle;\n",
       "    }\n",
       "\n",
       "    .dataframe tbody tr th {\n",
       "        vertical-align: top;\n",
       "    }\n",
       "\n",
       "    .dataframe thead th {\n",
       "        text-align: right;\n",
       "    }\n",
       "</style>\n",
       "<table border=\"1\" class=\"dataframe\">\n",
       "  <thead>\n",
       "    <tr style=\"text-align: right;\">\n",
       "      <th></th>\n",
       "      <th>PassengerId</th>\n",
       "      <th>Survived</th>\n",
       "      <th>Pclass</th>\n",
       "      <th>Name</th>\n",
       "      <th>Sex</th>\n",
       "      <th>Age</th>\n",
       "      <th>SibSp</th>\n",
       "      <th>Parch</th>\n",
       "      <th>Ticket</th>\n",
       "      <th>Fare</th>\n",
       "      <th>Cabin</th>\n",
       "      <th>Embarked</th>\n",
       "      <th>IsAdult</th>\n",
       "    </tr>\n",
       "  </thead>\n",
       "  <tbody>\n",
       "    <tr>\n",
       "      <th>0</th>\n",
       "      <td>1</td>\n",
       "      <td>0</td>\n",
       "      <td>3</td>\n",
       "      <td>Braund, Mr. Owen Harris</td>\n",
       "      <td>male</td>\n",
       "      <td>22.00</td>\n",
       "      <td>1</td>\n",
       "      <td>0</td>\n",
       "      <td>A/5 21171</td>\n",
       "      <td>7.25</td>\n",
       "      <td>NaN</td>\n",
       "      <td>S</td>\n",
       "      <td>Adult</td>\n",
       "    </tr>\n",
       "    <tr>\n",
       "      <th>1</th>\n",
       "      <td>2</td>\n",
       "      <td>1</td>\n",
       "      <td>1</td>\n",
       "      <td>Cumings, Mrs. John Bradley (Florence Briggs Th...</td>\n",
       "      <td>female</td>\n",
       "      <td>38.00</td>\n",
       "      <td>1</td>\n",
       "      <td>0</td>\n",
       "      <td>PC 17599</td>\n",
       "      <td>71.28</td>\n",
       "      <td>C85</td>\n",
       "      <td>C</td>\n",
       "      <td>Adult</td>\n",
       "    </tr>\n",
       "    <tr>\n",
       "      <th>2</th>\n",
       "      <td>3</td>\n",
       "      <td>1</td>\n",
       "      <td>3</td>\n",
       "      <td>Heikkinen, Miss. Laina</td>\n",
       "      <td>female</td>\n",
       "      <td>26.00</td>\n",
       "      <td>0</td>\n",
       "      <td>0</td>\n",
       "      <td>STON/O2. 3101282</td>\n",
       "      <td>7.92</td>\n",
       "      <td>NaN</td>\n",
       "      <td>S</td>\n",
       "      <td>Adult</td>\n",
       "    </tr>\n",
       "    <tr>\n",
       "      <th>3</th>\n",
       "      <td>4</td>\n",
       "      <td>1</td>\n",
       "      <td>1</td>\n",
       "      <td>Futrelle, Mrs. Jacques Heath (Lily May Peel)</td>\n",
       "      <td>female</td>\n",
       "      <td>35.00</td>\n",
       "      <td>1</td>\n",
       "      <td>0</td>\n",
       "      <td>113803</td>\n",
       "      <td>53.10</td>\n",
       "      <td>C123</td>\n",
       "      <td>S</td>\n",
       "      <td>Adult</td>\n",
       "    </tr>\n",
       "    <tr>\n",
       "      <th>4</th>\n",
       "      <td>5</td>\n",
       "      <td>0</td>\n",
       "      <td>3</td>\n",
       "      <td>Allen, Mr. William Henry</td>\n",
       "      <td>male</td>\n",
       "      <td>35.00</td>\n",
       "      <td>0</td>\n",
       "      <td>0</td>\n",
       "      <td>373450</td>\n",
       "      <td>8.05</td>\n",
       "      <td>NaN</td>\n",
       "      <td>S</td>\n",
       "      <td>Adult</td>\n",
       "    </tr>\n",
       "  </tbody>\n",
       "</table>\n",
       "</div>"
      ],
      "text/plain": [
       "   PassengerId  Survived  Pclass  \\\n",
       "0            1         0       3   \n",
       "1            2         1       1   \n",
       "2            3         1       3   \n",
       "3            4         1       1   \n",
       "4            5         0       3   \n",
       "\n",
       "                                                Name     Sex   Age  SibSp  \\\n",
       "0                            Braund, Mr. Owen Harris    male 22.00      1   \n",
       "1  Cumings, Mrs. John Bradley (Florence Briggs Th...  female 38.00      1   \n",
       "2                             Heikkinen, Miss. Laina  female 26.00      0   \n",
       "3       Futrelle, Mrs. Jacques Heath (Lily May Peel)  female 35.00      1   \n",
       "4                           Allen, Mr. William Henry    male 35.00      0   \n",
       "\n",
       "   Parch            Ticket  Fare Cabin Embarked IsAdult  \n",
       "0      0         A/5 21171  7.25   NaN        S   Adult  \n",
       "1      0          PC 17599 71.28   C85        C   Adult  \n",
       "2      0  STON/O2. 3101282  7.92   NaN        S   Adult  \n",
       "3      0            113803 53.10  C123        S   Adult  \n",
       "4      0            373450  8.05   NaN        S   Adult  "
      ]
     },
     "execution_count": 13,
     "metadata": {},
     "output_type": "execute_result"
    }
   ],
   "source": [
    "def is_adult(age):\n",
    "    if age >= 18:\n",
    "        return \"Adult\"\n",
    "    else:\n",
    "        return \"Child\"\n",
    "\n",
    "train_df['IsAdult'] = train_df['Age'].apply(is_adult)\n",
    "\n",
    "train_df.head()"
   ]
  },
  {
   "cell_type": "code",
   "execution_count": 14,
   "id": "eeca25a4",
   "metadata": {
    "execution": {
     "iopub.execute_input": "2025-01-26T23:33:52.794395Z",
     "iopub.status.busy": "2025-01-26T23:33:52.793918Z",
     "iopub.status.idle": "2025-01-26T23:33:52.807767Z",
     "shell.execute_reply": "2025-01-26T23:33:52.806406Z"
    },
    "papermill": {
     "duration": 0.030322,
     "end_time": "2025-01-26T23:33:52.809742",
     "exception": false,
     "start_time": "2025-01-26T23:33:52.779420",
     "status": "completed"
    },
    "tags": []
   },
   "outputs": [
    {
     "data": {
      "text/html": [
       "<div>\n",
       "<style scoped>\n",
       "    .dataframe tbody tr th:only-of-type {\n",
       "        vertical-align: middle;\n",
       "    }\n",
       "\n",
       "    .dataframe tbody tr th {\n",
       "        vertical-align: top;\n",
       "    }\n",
       "\n",
       "    .dataframe thead th {\n",
       "        text-align: right;\n",
       "    }\n",
       "</style>\n",
       "<table border=\"1\" class=\"dataframe\">\n",
       "  <thead>\n",
       "    <tr style=\"text-align: right;\">\n",
       "      <th></th>\n",
       "      <th>Survived</th>\n",
       "    </tr>\n",
       "    <tr>\n",
       "      <th>IsAdult</th>\n",
       "      <th></th>\n",
       "    </tr>\n",
       "  </thead>\n",
       "  <tbody>\n",
       "    <tr>\n",
       "      <th>Adult</th>\n",
       "      <td>0.38</td>\n",
       "    </tr>\n",
       "    <tr>\n",
       "      <th>Child</th>\n",
       "      <td>0.39</td>\n",
       "    </tr>\n",
       "  </tbody>\n",
       "</table>\n",
       "</div>"
      ],
      "text/plain": [
       "         Survived\n",
       "IsAdult          \n",
       "Adult        0.38\n",
       "Child        0.39"
      ]
     },
     "execution_count": 14,
     "metadata": {},
     "output_type": "execute_result"
    }
   ],
   "source": [
    "# IsAdult vs Survived\n",
    "\n",
    "train_df[[\"IsAdult\", \"Survived\"]].groupby(by=\"IsAdult\").mean()"
   ]
  },
  {
   "cell_type": "code",
   "execution_count": 15,
   "id": "ecf2f735",
   "metadata": {
    "execution": {
     "iopub.execute_input": "2025-01-26T23:33:52.839030Z",
     "iopub.status.busy": "2025-01-26T23:33:52.838536Z",
     "iopub.status.idle": "2025-01-26T23:33:52.856820Z",
     "shell.execute_reply": "2025-01-26T23:33:52.855632Z"
    },
    "papermill": {
     "duration": 0.035101,
     "end_time": "2025-01-26T23:33:52.858692",
     "exception": false,
     "start_time": "2025-01-26T23:33:52.823591",
     "status": "completed"
    },
    "tags": []
   },
   "outputs": [
    {
     "data": {
      "text/html": [
       "<div>\n",
       "<style scoped>\n",
       "    .dataframe tbody tr th:only-of-type {\n",
       "        vertical-align: middle;\n",
       "    }\n",
       "\n",
       "    .dataframe tbody tr th {\n",
       "        vertical-align: top;\n",
       "    }\n",
       "\n",
       "    .dataframe thead th {\n",
       "        text-align: right;\n",
       "    }\n",
       "</style>\n",
       "<table border=\"1\" class=\"dataframe\">\n",
       "  <thead>\n",
       "    <tr style=\"text-align: right;\">\n",
       "      <th></th>\n",
       "      <th>Survived</th>\n",
       "      <th>IsAdult</th>\n",
       "      <th>Percentage</th>\n",
       "    </tr>\n",
       "  </thead>\n",
       "  <tbody>\n",
       "    <tr>\n",
       "      <th>0</th>\n",
       "      <td>0</td>\n",
       "      <td>Adult</td>\n",
       "      <td>67.76</td>\n",
       "    </tr>\n",
       "    <tr>\n",
       "      <th>1</th>\n",
       "      <td>0</td>\n",
       "      <td>Child</td>\n",
       "      <td>32.24</td>\n",
       "    </tr>\n",
       "    <tr>\n",
       "      <th>2</th>\n",
       "      <td>1</td>\n",
       "      <td>Adult</td>\n",
       "      <td>66.96</td>\n",
       "    </tr>\n",
       "    <tr>\n",
       "      <th>3</th>\n",
       "      <td>1</td>\n",
       "      <td>Child</td>\n",
       "      <td>33.04</td>\n",
       "    </tr>\n",
       "  </tbody>\n",
       "</table>\n",
       "</div>"
      ],
      "text/plain": [
       "   Survived IsAdult  Percentage\n",
       "0         0   Adult       67.76\n",
       "1         0   Child       32.24\n",
       "2         1   Adult       66.96\n",
       "3         1   Child       33.04"
      ]
     },
     "execution_count": 15,
     "metadata": {},
     "output_type": "execute_result"
    }
   ],
   "source": [
    "# Survival Percantage by Age Group\n",
    "\n",
    "# Step 1: Calculate total counts for each group based on 'Survived' and 'IsAdult'\n",
    "group_counts = train_df.groupby(['Survived', 'IsAdult'])['PassengerId'].count()\n",
    "\n",
    "# Step 2: Calculate total counts for each survival group\n",
    "total_counts = train_df.groupby(['Survived'])['PassengerId'].count()\n",
    "\n",
    "# Step 3: Compute the percentage of each group\n",
    "percentage_df = (group_counts / total_counts * 100).reset_index(name='Percentage')\n",
    "\n",
    "# Display the percentage DataFrame\n",
    "percentage_df"
   ]
  },
  {
   "cell_type": "code",
   "execution_count": 16,
   "id": "5292b846",
   "metadata": {
    "execution": {
     "iopub.execute_input": "2025-01-26T23:33:52.887024Z",
     "iopub.status.busy": "2025-01-26T23:33:52.886597Z",
     "iopub.status.idle": "2025-01-26T23:33:52.914937Z",
     "shell.execute_reply": "2025-01-26T23:33:52.913720Z"
    },
    "papermill": {
     "duration": 0.044858,
     "end_time": "2025-01-26T23:33:52.916862",
     "exception": false,
     "start_time": "2025-01-26T23:33:52.872004",
     "status": "completed"
    },
    "tags": []
   },
   "outputs": [
    {
     "data": {
      "text/html": [
       "<div>\n",
       "<style scoped>\n",
       "    .dataframe tbody tr th:only-of-type {\n",
       "        vertical-align: middle;\n",
       "    }\n",
       "\n",
       "    .dataframe tbody tr th {\n",
       "        vertical-align: top;\n",
       "    }\n",
       "\n",
       "    .dataframe thead th {\n",
       "        text-align: right;\n",
       "    }\n",
       "</style>\n",
       "<table border=\"1\" class=\"dataframe\">\n",
       "  <thead>\n",
       "    <tr style=\"text-align: right;\">\n",
       "      <th>IsAdult</th>\n",
       "      <th>Adult</th>\n",
       "      <th>Child</th>\n",
       "    </tr>\n",
       "    <tr>\n",
       "      <th>Survived</th>\n",
       "      <th></th>\n",
       "      <th></th>\n",
       "    </tr>\n",
       "  </thead>\n",
       "  <tbody>\n",
       "    <tr>\n",
       "      <th>0</th>\n",
       "      <td>67.76</td>\n",
       "      <td>32.24</td>\n",
       "    </tr>\n",
       "    <tr>\n",
       "      <th>1</th>\n",
       "      <td>66.96</td>\n",
       "      <td>33.04</td>\n",
       "    </tr>\n",
       "  </tbody>\n",
       "</table>\n",
       "</div>"
      ],
      "text/plain": [
       "IsAdult   Adult  Child\n",
       "Survived              \n",
       "0         67.76  32.24\n",
       "1         66.96  33.04"
      ]
     },
     "execution_count": 16,
     "metadata": {},
     "output_type": "execute_result"
    }
   ],
   "source": [
    "# Step 4: Prepare data for visualization by pivoting\n",
    "pivot_df = percentage_df.pivot(index='Survived', columns='IsAdult', values='Percentage')\n",
    "\n",
    "pivot_df"
   ]
  },
  {
   "cell_type": "code",
   "execution_count": 17,
   "id": "2d35fa7e",
   "metadata": {
    "execution": {
     "iopub.execute_input": "2025-01-26T23:33:52.945278Z",
     "iopub.status.busy": "2025-01-26T23:33:52.944860Z",
     "iopub.status.idle": "2025-01-26T23:33:53.236117Z",
     "shell.execute_reply": "2025-01-26T23:33:53.234849Z"
    },
    "papermill": {
     "duration": 0.307698,
     "end_time": "2025-01-26T23:33:53.238178",
     "exception": false,
     "start_time": "2025-01-26T23:33:52.930480",
     "status": "completed"
    },
    "tags": []
   },
   "outputs": [
    {
     "data": {
      "image/png": "[encoded data removed]",
      "text/plain": [
       "<Figure size 800x600 with 1 Axes>"
      ]
     },
     "metadata": {},
     "output_type": "display_data"
    }
   ],
   "source": [
    "# Step 5: Plot the stacked bar chart\n",
    "pivot_df.plot(kind='bar', stacked=True, figsize=(8, 6))\n",
    "\n",
    "# Add chart title and labels\n",
    "plt.title('Survival Percentage by Age Group')\n",
    "plt.ylabel('Percentage')\n",
    "plt.xlabel('Survival')\n",
    "plt.xticks(ticks=[0, 1], labels=['Died', 'Survived'], rotation=0)\n",
    "plt.legend(title='Age Group')\n",
    "\n",
    "# Show the plot\n",
    "plt.show()"
   ]
  },
  {
   "cell_type": "code",
   "execution_count": 18,
   "id": "e4c8769c",
   "metadata": {
    "execution": {
     "iopub.execute_input": "2025-01-26T23:33:53.269366Z",
     "iopub.status.busy": "2025-01-26T23:33:53.268998Z",
     "iopub.status.idle": "2025-01-26T23:33:53.282160Z",
     "shell.execute_reply": "2025-01-26T23:33:53.280783Z"
    },
    "papermill": {
     "duration": 0.030687,
     "end_time": "2025-01-26T23:33:53.283972",
     "exception": false,
     "start_time": "2025-01-26T23:33:53.253285",
     "status": "completed"
    },
    "tags": []
   },
   "outputs": [
    {
     "data": {
      "text/html": [
       "<div>\n",
       "<style scoped>\n",
       "    .dataframe tbody tr th:only-of-type {\n",
       "        vertical-align: middle;\n",
       "    }\n",
       "\n",
       "    .dataframe tbody tr th {\n",
       "        vertical-align: top;\n",
       "    }\n",
       "\n",
       "    .dataframe thead th {\n",
       "        text-align: right;\n",
       "    }\n",
       "</style>\n",
       "<table border=\"1\" class=\"dataframe\">\n",
       "  <thead>\n",
       "    <tr style=\"text-align: right;\">\n",
       "      <th></th>\n",
       "      <th>SibSp</th>\n",
       "      <th>Survived</th>\n",
       "    </tr>\n",
       "  </thead>\n",
       "  <tbody>\n",
       "    <tr>\n",
       "      <th>1</th>\n",
       "      <td>1</td>\n",
       "      <td>0.54</td>\n",
       "    </tr>\n",
       "    <tr>\n",
       "      <th>2</th>\n",
       "      <td>2</td>\n",
       "      <td>0.46</td>\n",
       "    </tr>\n",
       "    <tr>\n",
       "      <th>0</th>\n",
       "      <td>0</td>\n",
       "      <td>0.35</td>\n",
       "    </tr>\n",
       "    <tr>\n",
       "      <th>3</th>\n",
       "      <td>3</td>\n",
       "      <td>0.25</td>\n",
       "    </tr>\n",
       "    <tr>\n",
       "      <th>4</th>\n",
       "      <td>4</td>\n",
       "      <td>0.17</td>\n",
       "    </tr>\n",
       "    <tr>\n",
       "      <th>5</th>\n",
       "      <td>5</td>\n",
       "      <td>0.00</td>\n",
       "    </tr>\n",
       "    <tr>\n",
       "      <th>6</th>\n",
       "      <td>8</td>\n",
       "      <td>0.00</td>\n",
       "    </tr>\n",
       "  </tbody>\n",
       "</table>\n",
       "</div>"
      ],
      "text/plain": [
       "   SibSp  Survived\n",
       "1      1      0.54\n",
       "2      2      0.46\n",
       "0      0      0.35\n",
       "3      3      0.25\n",
       "4      4      0.17\n",
       "5      5      0.00\n",
       "6      8      0.00"
      ]
     },
     "execution_count": 18,
     "metadata": {},
     "output_type": "execute_result"
    }
   ],
   "source": [
    "# SibSp vs Survived\n",
    "sibsp_survival = train_df[[\"SibSp\", \"Survived\"]].groupby(by=\"SibSp\", as_index = False).mean().sort_values(by=\"Survived\", ascending=False)\n",
    "\n",
    "sibsp_survival"
   ]
  },
  {
   "cell_type": "code",
   "execution_count": 19,
   "id": "aea86e77",
   "metadata": {
    "execution": {
     "iopub.execute_input": "2025-01-26T23:33:53.314117Z",
     "iopub.status.busy": "2025-01-26T23:33:53.313653Z",
     "iopub.status.idle": "2025-01-26T23:33:53.581940Z",
     "shell.execute_reply": "2025-01-26T23:33:53.580741Z"
    },
    "papermill": {
     "duration": 0.285692,
     "end_time": "2025-01-26T23:33:53.584145",
     "exception": false,
     "start_time": "2025-01-26T23:33:53.298453",
     "status": "completed"
    },
    "tags": []
   },
   "outputs": [
    {
     "data": {
      "image/png": "[encoded data removed]",
      "text/plain": [
       "<Figure size 800x600 with 1 Axes>"
      ]
     },
     "metadata": {},
     "output_type": "display_data"
    }
   ],
   "source": [
    "# Visualization\n",
    "plt.figure(figsize=(8, 6))\n",
    "plt.bar(sibsp_survival['SibSp'], sibsp_survival['Survived'], color='skyblue', edgecolor='black')\n",
    "\n",
    "plt.title('Survival Rate by SibSp')\n",
    "plt.xlabel('Number of Siblings/Spouses (SibSp)')\n",
    "plt.ylabel('Average Survival Rate')\n",
    "plt.xticks(sibsp_survival['SibSp'])\n",
    "plt.show()"
   ]
  },
  {
   "cell_type": "code",
   "execution_count": 20,
   "id": "30bc59bb",
   "metadata": {
    "execution": {
     "iopub.execute_input": "2025-01-26T23:33:53.618448Z",
     "iopub.status.busy": "2025-01-26T23:33:53.618033Z",
     "iopub.status.idle": "2025-01-26T23:33:53.632133Z",
     "shell.execute_reply": "2025-01-26T23:33:53.630773Z"
    },
    "papermill": {
     "duration": 0.032886,
     "end_time": "2025-01-26T23:33:53.633992",
     "exception": false,
     "start_time": "2025-01-26T23:33:53.601106",
     "status": "completed"
    },
    "tags": []
   },
   "outputs": [
    {
     "data": {
      "text/html": [
       "<div>\n",
       "<style scoped>\n",
       "    .dataframe tbody tr th:only-of-type {\n",
       "        vertical-align: middle;\n",
       "    }\n",
       "\n",
       "    .dataframe tbody tr th {\n",
       "        vertical-align: top;\n",
       "    }\n",
       "\n",
       "    .dataframe thead th {\n",
       "        text-align: right;\n",
       "    }\n",
       "</style>\n",
       "<table border=\"1\" class=\"dataframe\">\n",
       "  <thead>\n",
       "    <tr style=\"text-align: right;\">\n",
       "      <th></th>\n",
       "      <th>Parch</th>\n",
       "      <th>Survived</th>\n",
       "    </tr>\n",
       "  </thead>\n",
       "  <tbody>\n",
       "    <tr>\n",
       "      <th>3</th>\n",
       "      <td>3</td>\n",
       "      <td>0.60</td>\n",
       "    </tr>\n",
       "    <tr>\n",
       "      <th>1</th>\n",
       "      <td>1</td>\n",
       "      <td>0.55</td>\n",
       "    </tr>\n",
       "    <tr>\n",
       "      <th>2</th>\n",
       "      <td>2</td>\n",
       "      <td>0.50</td>\n",
       "    </tr>\n",
       "    <tr>\n",
       "      <th>0</th>\n",
       "      <td>0</td>\n",
       "      <td>0.34</td>\n",
       "    </tr>\n",
       "    <tr>\n",
       "      <th>5</th>\n",
       "      <td>5</td>\n",
       "      <td>0.20</td>\n",
       "    </tr>\n",
       "    <tr>\n",
       "      <th>4</th>\n",
       "      <td>4</td>\n",
       "      <td>0.00</td>\n",
       "    </tr>\n",
       "    <tr>\n",
       "      <th>6</th>\n",
       "      <td>6</td>\n",
       "      <td>0.00</td>\n",
       "    </tr>\n",
       "  </tbody>\n",
       "</table>\n",
       "</div>"
      ],
      "text/plain": [
       "   Parch  Survived\n",
       "3      3      0.60\n",
       "1      1      0.55\n",
       "2      2      0.50\n",
       "0      0      0.34\n",
       "5      5      0.20\n",
       "4      4      0.00\n",
       "6      6      0.00"
      ]
     },
     "execution_count": 20,
     "metadata": {},
     "output_type": "execute_result"
    }
   ],
   "source": [
    "# Parch vs Survived\n",
    "parch_survival = train_df[[\"Parch\", \"Survived\"]].groupby(by=\"Parch\", as_index = False).mean().sort_values(by=\"Survived\", ascending=False)\n",
    "\n",
    "parch_survival"
   ]
  },
  {
   "cell_type": "markdown",
   "id": "69ca855b",
   "metadata": {
    "papermill": {
     "duration": 0.01469,
     "end_time": "2025-01-26T23:33:53.663911",
     "exception": false,
     "start_time": "2025-01-26T23:33:53.649221",
     "status": "completed"
    },
    "tags": []
   },
   "source": [
    "# Outlier Detection"
   ]
  },
  {
   "cell_type": "code",
   "execution_count": 21,
   "id": "ec8b4ff0",
   "metadata": {
    "execution": {
     "iopub.execute_input": "2025-01-26T23:33:53.694827Z",
     "iopub.status.busy": "2025-01-26T23:33:53.694467Z",
     "iopub.status.idle": "2025-01-26T23:33:53.700667Z",
     "shell.execute_reply": "2025-01-26T23:33:53.699714Z"
    },
    "papermill": {
     "duration": 0.023826,
     "end_time": "2025-01-26T23:33:53.702474",
     "exception": false,
     "start_time": "2025-01-26T23:33:53.678648",
     "status": "completed"
    },
    "tags": []
   },
   "outputs": [],
   "source": [
    "def detect_outliers(df, features):\n",
    "    outlier_indices = []\n",
    "    for f in features:\n",
    "        # 1st quartile\n",
    "        Q1 = np.percentile(df[f], 25)\n",
    "        # 2nd quartile\n",
    "        Q3 = np.percentile(df[f], 75)\n",
    "        # IQR\n",
    "        IQR = Q3 - Q1\n",
    "        # Outlier Step\n",
    "        outlier_step = 1.5 * IQR\n",
    "        # Detect Outliers and their indices\n",
    "        outlier_list_col = df[(df[f] < Q1 - outlier_step) | (df[f] > Q3 + outlier_step)].index\n",
    "        # Store indices\n",
    "        outlier_indices.extend(outlier_list_col)\n",
    "\n",
    "    outlier_indices = Counter(outlier_indices)\n",
    "    multiple_outliers = [i for i, v in outlier_indices.items() if v > 1] # return indices for rows with more than 1 outliers\n",
    "    \n",
    "    return multiple_outliers"
   ]
  },
  {
   "cell_type": "code",
   "execution_count": 22,
   "id": "edb5324d",
   "metadata": {
    "execution": {
     "iopub.execute_input": "2025-01-26T23:33:53.734287Z",
     "iopub.status.busy": "2025-01-26T23:33:53.733949Z",
     "iopub.status.idle": "2025-01-26T23:33:53.755862Z",
     "shell.execute_reply": "2025-01-26T23:33:53.754697Z"
    },
    "papermill": {
     "duration": 0.04012,
     "end_time": "2025-01-26T23:33:53.757593",
     "exception": false,
     "start_time": "2025-01-26T23:33:53.717473",
     "status": "completed"
    },
    "tags": []
   },
   "outputs": [
    {
     "data": {
      "text/html": [
       "<div>\n",
       "<style scoped>\n",
       "    .dataframe tbody tr th:only-of-type {\n",
       "        vertical-align: middle;\n",
       "    }\n",
       "\n",
       "    .dataframe tbody tr th {\n",
       "        vertical-align: top;\n",
       "    }\n",
       "\n",
       "    .dataframe thead th {\n",
       "        text-align: right;\n",
       "    }\n",
       "</style>\n",
       "<table border=\"1\" class=\"dataframe\">\n",
       "  <thead>\n",
       "    <tr style=\"text-align: right;\">\n",
       "      <th></th>\n",
       "      <th>PassengerId</th>\n",
       "      <th>Survived</th>\n",
       "      <th>Pclass</th>\n",
       "      <th>Name</th>\n",
       "      <th>Sex</th>\n",
       "      <th>Age</th>\n",
       "      <th>SibSp</th>\n",
       "      <th>Parch</th>\n",
       "      <th>Ticket</th>\n",
       "      <th>Fare</th>\n",
       "      <th>Cabin</th>\n",
       "      <th>Embarked</th>\n",
       "      <th>IsAdult</th>\n",
       "    </tr>\n",
       "  </thead>\n",
       "  <tbody>\n",
       "    <tr>\n",
       "      <th>7</th>\n",
       "      <td>8</td>\n",
       "      <td>0</td>\n",
       "      <td>3</td>\n",
       "      <td>Palsson, Master. Gosta Leonard</td>\n",
       "      <td>male</td>\n",
       "      <td>2.00</td>\n",
       "      <td>3</td>\n",
       "      <td>1</td>\n",
       "      <td>349909</td>\n",
       "      <td>21.07</td>\n",
       "      <td>NaN</td>\n",
       "      <td>S</td>\n",
       "      <td>Child</td>\n",
       "    </tr>\n",
       "    <tr>\n",
       "      <th>16</th>\n",
       "      <td>17</td>\n",
       "      <td>0</td>\n",
       "      <td>3</td>\n",
       "      <td>Rice, Master. Eugene</td>\n",
       "      <td>male</td>\n",
       "      <td>2.00</td>\n",
       "      <td>4</td>\n",
       "      <td>1</td>\n",
       "      <td>382652</td>\n",
       "      <td>29.12</td>\n",
       "      <td>NaN</td>\n",
       "      <td>Q</td>\n",
       "      <td>Child</td>\n",
       "    </tr>\n",
       "    <tr>\n",
       "      <th>24</th>\n",
       "      <td>25</td>\n",
       "      <td>0</td>\n",
       "      <td>3</td>\n",
       "      <td>Palsson, Miss. Torborg Danira</td>\n",
       "      <td>female</td>\n",
       "      <td>8.00</td>\n",
       "      <td>3</td>\n",
       "      <td>1</td>\n",
       "      <td>349909</td>\n",
       "      <td>21.07</td>\n",
       "      <td>NaN</td>\n",
       "      <td>S</td>\n",
       "      <td>Child</td>\n",
       "    </tr>\n",
       "    <tr>\n",
       "      <th>27</th>\n",
       "      <td>28</td>\n",
       "      <td>0</td>\n",
       "      <td>1</td>\n",
       "      <td>Fortune, Mr. Charles Alexander</td>\n",
       "      <td>male</td>\n",
       "      <td>19.00</td>\n",
       "      <td>3</td>\n",
       "      <td>2</td>\n",
       "      <td>19950</td>\n",
       "      <td>263.00</td>\n",
       "      <td>C23 C25 C27</td>\n",
       "      <td>S</td>\n",
       "      <td>Adult</td>\n",
       "    </tr>\n",
       "    <tr>\n",
       "      <th>50</th>\n",
       "      <td>51</td>\n",
       "      <td>0</td>\n",
       "      <td>3</td>\n",
       "      <td>Panula, Master. Juha Niilo</td>\n",
       "      <td>male</td>\n",
       "      <td>7.00</td>\n",
       "      <td>4</td>\n",
       "      <td>1</td>\n",
       "      <td>3101295</td>\n",
       "      <td>39.69</td>\n",
       "      <td>NaN</td>\n",
       "      <td>S</td>\n",
       "      <td>Child</td>\n",
       "    </tr>\n",
       "    <tr>\n",
       "      <th>...</th>\n",
       "      <td>...</td>\n",
       "      <td>...</td>\n",
       "      <td>...</td>\n",
       "      <td>...</td>\n",
       "      <td>...</td>\n",
       "      <td>...</td>\n",
       "      <td>...</td>\n",
       "      <td>...</td>\n",
       "      <td>...</td>\n",
       "      <td>...</td>\n",
       "      <td>...</td>\n",
       "      <td>...</td>\n",
       "      <td>...</td>\n",
       "    </tr>\n",
       "    <tr>\n",
       "      <th>802</th>\n",
       "      <td>803</td>\n",
       "      <td>1</td>\n",
       "      <td>1</td>\n",
       "      <td>Carter, Master. William Thornton II</td>\n",
       "      <td>male</td>\n",
       "      <td>11.00</td>\n",
       "      <td>1</td>\n",
       "      <td>2</td>\n",
       "      <td>113760</td>\n",
       "      <td>120.00</td>\n",
       "      <td>B96 B98</td>\n",
       "      <td>S</td>\n",
       "      <td>Child</td>\n",
       "    </tr>\n",
       "    <tr>\n",
       "      <th>820</th>\n",
       "      <td>821</td>\n",
       "      <td>1</td>\n",
       "      <td>1</td>\n",
       "      <td>Hays, Mrs. Charles Melville (Clara Jennings Gr...</td>\n",
       "      <td>female</td>\n",
       "      <td>52.00</td>\n",
       "      <td>1</td>\n",
       "      <td>1</td>\n",
       "      <td>12749</td>\n",
       "      <td>93.50</td>\n",
       "      <td>B69</td>\n",
       "      <td>S</td>\n",
       "      <td>Adult</td>\n",
       "    </tr>\n",
       "    <tr>\n",
       "      <th>835</th>\n",
       "      <td>836</td>\n",
       "      <td>1</td>\n",
       "      <td>1</td>\n",
       "      <td>Compton, Miss. Sara Rebecca</td>\n",
       "      <td>female</td>\n",
       "      <td>39.00</td>\n",
       "      <td>1</td>\n",
       "      <td>1</td>\n",
       "      <td>PC 17756</td>\n",
       "      <td>83.16</td>\n",
       "      <td>E49</td>\n",
       "      <td>C</td>\n",
       "      <td>Adult</td>\n",
       "    </tr>\n",
       "    <tr>\n",
       "      <th>856</th>\n",
       "      <td>857</td>\n",
       "      <td>1</td>\n",
       "      <td>1</td>\n",
       "      <td>Wick, Mrs. George Dennick (Mary Hitchcock)</td>\n",
       "      <td>female</td>\n",
       "      <td>45.00</td>\n",
       "      <td>1</td>\n",
       "      <td>1</td>\n",
       "      <td>36928</td>\n",
       "      <td>164.87</td>\n",
       "      <td>NaN</td>\n",
       "      <td>S</td>\n",
       "      <td>Adult</td>\n",
       "    </tr>\n",
       "    <tr>\n",
       "      <th>879</th>\n",
       "      <td>880</td>\n",
       "      <td>1</td>\n",
       "      <td>1</td>\n",
       "      <td>Potter, Mrs. Thomas Jr (Lily Alexenia Wilson)</td>\n",
       "      <td>female</td>\n",
       "      <td>56.00</td>\n",
       "      <td>0</td>\n",
       "      <td>1</td>\n",
       "      <td>11767</td>\n",
       "      <td>83.16</td>\n",
       "      <td>C50</td>\n",
       "      <td>C</td>\n",
       "      <td>Adult</td>\n",
       "    </tr>\n",
       "  </tbody>\n",
       "</table>\n",
       "<p>81 rows × 13 columns</p>\n",
       "</div>"
      ],
      "text/plain": [
       "     PassengerId  Survived  Pclass  \\\n",
       "7              8         0       3   \n",
       "16            17         0       3   \n",
       "24            25         0       3   \n",
       "27            28         0       1   \n",
       "50            51         0       3   \n",
       "..           ...       ...     ...   \n",
       "802          803         1       1   \n",
       "820          821         1       1   \n",
       "835          836         1       1   \n",
       "856          857         1       1   \n",
       "879          880         1       1   \n",
       "\n",
       "                                                  Name     Sex   Age  SibSp  \\\n",
       "7                       Palsson, Master. Gosta Leonard    male  2.00      3   \n",
       "16                                Rice, Master. Eugene    male  2.00      4   \n",
       "24                       Palsson, Miss. Torborg Danira  female  8.00      3   \n",
       "27                      Fortune, Mr. Charles Alexander    male 19.00      3   \n",
       "50                          Panula, Master. Juha Niilo    male  7.00      4   \n",
       "..                                                 ...     ...   ...    ...   \n",
       "802                Carter, Master. William Thornton II    male 11.00      1   \n",
       "820  Hays, Mrs. Charles Melville (Clara Jennings Gr...  female 52.00      1   \n",
       "835                        Compton, Miss. Sara Rebecca  female 39.00      1   \n",
       "856         Wick, Mrs. George Dennick (Mary Hitchcock)  female 45.00      1   \n",
       "879      Potter, Mrs. Thomas Jr (Lily Alexenia Wilson)  female 56.00      0   \n",
       "\n",
       "     Parch    Ticket   Fare        Cabin Embarked IsAdult  \n",
       "7        1    349909  21.07          NaN        S   Child  \n",
       "16       1    382652  29.12          NaN        Q   Child  \n",
       "24       1    349909  21.07          NaN        S   Child  \n",
       "27       2     19950 263.00  C23 C25 C27        S   Adult  \n",
       "50       1   3101295  39.69          NaN        S   Child  \n",
       "..     ...       ...    ...          ...      ...     ...  \n",
       "802      2    113760 120.00      B96 B98        S   Child  \n",
       "820      1     12749  93.50          B69        S   Adult  \n",
       "835      1  PC 17756  83.16          E49        C   Adult  \n",
       "856      1     36928 164.87          NaN        S   Adult  \n",
       "879      1     11767  83.16          C50        C   Adult  \n",
       "\n",
       "[81 rows x 13 columns]"
      ]
     },
     "execution_count": 22,
     "metadata": {},
     "output_type": "execute_result"
    }
   ],
   "source": [
    "train_df.loc[detect_outliers(train_df, [\"Age\", \"SibSp\", \"Parch\", \"Fare\"])]"
   ]
  },
  {
   "cell_type": "code",
   "execution_count": 23,
   "id": "b6a66dc4",
   "metadata": {
    "execution": {
     "iopub.execute_input": "2025-01-26T23:33:53.789517Z",
     "iopub.status.busy": "2025-01-26T23:33:53.789148Z",
     "iopub.status.idle": "2025-01-26T23:33:53.800172Z",
     "shell.execute_reply": "2025-01-26T23:33:53.799156Z"
    },
    "papermill": {
     "duration": 0.028922,
     "end_time": "2025-01-26T23:33:53.802032",
     "exception": false,
     "start_time": "2025-01-26T23:33:53.773110",
     "status": "completed"
    },
    "tags": []
   },
   "outputs": [],
   "source": [
    "train_df = train_df.drop(detect_outliers(train_df, [\"Age\", \"SibSp\", \"Parch\", \"Fare\"]), axis = 0).reset_index(drop = True)"
   ]
  },
  {
   "cell_type": "code",
   "execution_count": 24,
   "id": "83813393",
   "metadata": {
    "execution": {
     "iopub.execute_input": "2025-01-26T23:33:53.833800Z",
     "iopub.status.busy": "2025-01-26T23:33:53.833449Z",
     "iopub.status.idle": "2025-01-26T23:33:53.849244Z",
     "shell.execute_reply": "2025-01-26T23:33:53.848183Z"
    },
    "papermill": {
     "duration": 0.033599,
     "end_time": "2025-01-26T23:33:53.850934",
     "exception": false,
     "start_time": "2025-01-26T23:33:53.817335",
     "status": "completed"
    },
    "tags": []
   },
   "outputs": [
    {
     "data": {
      "text/html": [
       "<div>\n",
       "<style scoped>\n",
       "    .dataframe tbody tr th:only-of-type {\n",
       "        vertical-align: middle;\n",
       "    }\n",
       "\n",
       "    .dataframe tbody tr th {\n",
       "        vertical-align: top;\n",
       "    }\n",
       "\n",
       "    .dataframe thead th {\n",
       "        text-align: right;\n",
       "    }\n",
       "</style>\n",
       "<table border=\"1\" class=\"dataframe\">\n",
       "  <thead>\n",
       "    <tr style=\"text-align: right;\">\n",
       "      <th></th>\n",
       "      <th>PassengerId</th>\n",
       "      <th>Survived</th>\n",
       "      <th>Pclass</th>\n",
       "      <th>Name</th>\n",
       "      <th>Sex</th>\n",
       "      <th>Age</th>\n",
       "      <th>SibSp</th>\n",
       "      <th>Parch</th>\n",
       "      <th>Ticket</th>\n",
       "      <th>Fare</th>\n",
       "      <th>Cabin</th>\n",
       "      <th>Embarked</th>\n",
       "      <th>IsAdult</th>\n",
       "    </tr>\n",
       "  </thead>\n",
       "  <tbody>\n",
       "    <tr>\n",
       "      <th>0</th>\n",
       "      <td>1</td>\n",
       "      <td>0</td>\n",
       "      <td>3</td>\n",
       "      <td>Braund, Mr. Owen Harris</td>\n",
       "      <td>male</td>\n",
       "      <td>22.00</td>\n",
       "      <td>1</td>\n",
       "      <td>0</td>\n",
       "      <td>A/5 21171</td>\n",
       "      <td>7.25</td>\n",
       "      <td>NaN</td>\n",
       "      <td>S</td>\n",
       "      <td>Adult</td>\n",
       "    </tr>\n",
       "    <tr>\n",
       "      <th>1</th>\n",
       "      <td>2</td>\n",
       "      <td>1</td>\n",
       "      <td>1</td>\n",
       "      <td>Cumings, Mrs. John Bradley (Florence Briggs Th...</td>\n",
       "      <td>female</td>\n",
       "      <td>38.00</td>\n",
       "      <td>1</td>\n",
       "      <td>0</td>\n",
       "      <td>PC 17599</td>\n",
       "      <td>71.28</td>\n",
       "      <td>C85</td>\n",
       "      <td>C</td>\n",
       "      <td>Adult</td>\n",
       "    </tr>\n",
       "    <tr>\n",
       "      <th>2</th>\n",
       "      <td>3</td>\n",
       "      <td>1</td>\n",
       "      <td>3</td>\n",
       "      <td>Heikkinen, Miss. Laina</td>\n",
       "      <td>female</td>\n",
       "      <td>26.00</td>\n",
       "      <td>0</td>\n",
       "      <td>0</td>\n",
       "      <td>STON/O2. 3101282</td>\n",
       "      <td>7.92</td>\n",
       "      <td>NaN</td>\n",
       "      <td>S</td>\n",
       "      <td>Adult</td>\n",
       "    </tr>\n",
       "    <tr>\n",
       "      <th>3</th>\n",
       "      <td>4</td>\n",
       "      <td>1</td>\n",
       "      <td>1</td>\n",
       "      <td>Futrelle, Mrs. Jacques Heath (Lily May Peel)</td>\n",
       "      <td>female</td>\n",
       "      <td>35.00</td>\n",
       "      <td>1</td>\n",
       "      <td>0</td>\n",
       "      <td>113803</td>\n",
       "      <td>53.10</td>\n",
       "      <td>C123</td>\n",
       "      <td>S</td>\n",
       "      <td>Adult</td>\n",
       "    </tr>\n",
       "    <tr>\n",
       "      <th>4</th>\n",
       "      <td>5</td>\n",
       "      <td>0</td>\n",
       "      <td>3</td>\n",
       "      <td>Allen, Mr. William Henry</td>\n",
       "      <td>male</td>\n",
       "      <td>35.00</td>\n",
       "      <td>0</td>\n",
       "      <td>0</td>\n",
       "      <td>373450</td>\n",
       "      <td>8.05</td>\n",
       "      <td>NaN</td>\n",
       "      <td>S</td>\n",
       "      <td>Adult</td>\n",
       "    </tr>\n",
       "    <tr>\n",
       "      <th>...</th>\n",
       "      <td>...</td>\n",
       "      <td>...</td>\n",
       "      <td>...</td>\n",
       "      <td>...</td>\n",
       "      <td>...</td>\n",
       "      <td>...</td>\n",
       "      <td>...</td>\n",
       "      <td>...</td>\n",
       "      <td>...</td>\n",
       "      <td>...</td>\n",
       "      <td>...</td>\n",
       "      <td>...</td>\n",
       "      <td>...</td>\n",
       "    </tr>\n",
       "    <tr>\n",
       "      <th>805</th>\n",
       "      <td>887</td>\n",
       "      <td>0</td>\n",
       "      <td>2</td>\n",
       "      <td>Montvila, Rev. Juozas</td>\n",
       "      <td>male</td>\n",
       "      <td>27.00</td>\n",
       "      <td>0</td>\n",
       "      <td>0</td>\n",
       "      <td>211536</td>\n",
       "      <td>13.00</td>\n",
       "      <td>NaN</td>\n",
       "      <td>S</td>\n",
       "      <td>Adult</td>\n",
       "    </tr>\n",
       "    <tr>\n",
       "      <th>806</th>\n",
       "      <td>888</td>\n",
       "      <td>1</td>\n",
       "      <td>1</td>\n",
       "      <td>Graham, Miss. Margaret Edith</td>\n",
       "      <td>female</td>\n",
       "      <td>19.00</td>\n",
       "      <td>0</td>\n",
       "      <td>0</td>\n",
       "      <td>112053</td>\n",
       "      <td>30.00</td>\n",
       "      <td>B42</td>\n",
       "      <td>S</td>\n",
       "      <td>Adult</td>\n",
       "    </tr>\n",
       "    <tr>\n",
       "      <th>807</th>\n",
       "      <td>889</td>\n",
       "      <td>0</td>\n",
       "      <td>3</td>\n",
       "      <td>Johnston, Miss. Catherine Helen \"Carrie\"</td>\n",
       "      <td>female</td>\n",
       "      <td>NaN</td>\n",
       "      <td>1</td>\n",
       "      <td>2</td>\n",
       "      <td>W./C. 6607</td>\n",
       "      <td>23.45</td>\n",
       "      <td>NaN</td>\n",
       "      <td>S</td>\n",
       "      <td>Child</td>\n",
       "    </tr>\n",
       "    <tr>\n",
       "      <th>808</th>\n",
       "      <td>890</td>\n",
       "      <td>1</td>\n",
       "      <td>1</td>\n",
       "      <td>Behr, Mr. Karl Howell</td>\n",
       "      <td>male</td>\n",
       "      <td>26.00</td>\n",
       "      <td>0</td>\n",
       "      <td>0</td>\n",
       "      <td>111369</td>\n",
       "      <td>30.00</td>\n",
       "      <td>C148</td>\n",
       "      <td>C</td>\n",
       "      <td>Adult</td>\n",
       "    </tr>\n",
       "    <tr>\n",
       "      <th>809</th>\n",
       "      <td>891</td>\n",
       "      <td>0</td>\n",
       "      <td>3</td>\n",
       "      <td>Dooley, Mr. Patrick</td>\n",
       "      <td>male</td>\n",
       "      <td>32.00</td>\n",
       "      <td>0</td>\n",
       "      <td>0</td>\n",
       "      <td>370376</td>\n",
       "      <td>7.75</td>\n",
       "      <td>NaN</td>\n",
       "      <td>Q</td>\n",
       "      <td>Adult</td>\n",
       "    </tr>\n",
       "  </tbody>\n",
       "</table>\n",
       "<p>810 rows × 13 columns</p>\n",
       "</div>"
      ],
      "text/plain": [
       "     PassengerId  Survived  Pclass  \\\n",
       "0              1         0       3   \n",
       "1              2         1       1   \n",
       "2              3         1       3   \n",
       "3              4         1       1   \n",
       "4              5         0       3   \n",
       "..           ...       ...     ...   \n",
       "805          887         0       2   \n",
       "806          888         1       1   \n",
       "807          889         0       3   \n",
       "808          890         1       1   \n",
       "809          891         0       3   \n",
       "\n",
       "                                                  Name     Sex   Age  SibSp  \\\n",
       "0                              Braund, Mr. Owen Harris    male 22.00      1   \n",
       "1    Cumings, Mrs. John Bradley (Florence Briggs Th...  female 38.00      1   \n",
       "2                               Heikkinen, Miss. Laina  female 26.00      0   \n",
       "3         Futrelle, Mrs. Jacques Heath (Lily May Peel)  female 35.00      1   \n",
       "4                             Allen, Mr. William Henry    male 35.00      0   \n",
       "..                                                 ...     ...   ...    ...   \n",
       "805                              Montvila, Rev. Juozas    male 27.00      0   \n",
       "806                       Graham, Miss. Margaret Edith  female 19.00      0   \n",
       "807           Johnston, Miss. Catherine Helen \"Carrie\"  female   NaN      1   \n",
       "808                              Behr, Mr. Karl Howell    male 26.00      0   \n",
       "809                                Dooley, Mr. Patrick    male 32.00      0   \n",
       "\n",
       "     Parch            Ticket  Fare Cabin Embarked IsAdult  \n",
       "0        0         A/5 21171  7.25   NaN        S   Adult  \n",
       "1        0          PC 17599 71.28   C85        C   Adult  \n",
       "2        0  STON/O2. 3101282  7.92   NaN        S   Adult  \n",
       "3        0            113803 53.10  C123        S   Adult  \n",
       "4        0            373450  8.05   NaN        S   Adult  \n",
       "..     ...               ...   ...   ...      ...     ...  \n",
       "805      0            211536 13.00   NaN        S   Adult  \n",
       "806      0            112053 30.00   B42        S   Adult  \n",
       "807      2        W./C. 6607 23.45   NaN        S   Child  \n",
       "808      0            111369 30.00  C148        C   Adult  \n",
       "809      0            370376  7.75   NaN        Q   Adult  \n",
       "\n",
       "[810 rows x 13 columns]"
      ]
     },
     "execution_count": 24,
     "metadata": {},
     "output_type": "execute_result"
    }
   ],
   "source": [
    "train_df"
   ]
  },
  {
   "cell_type": "markdown",
   "id": "f6701a2f",
   "metadata": {
    "papermill": {
     "duration": 0.015092,
     "end_time": "2025-01-26T23:33:53.881639",
     "exception": false,
     "start_time": "2025-01-26T23:33:53.866547",
     "status": "completed"
    },
    "tags": []
   },
   "source": [
    "# Missing Values\n",
    "* Find Missing Values\n",
    "* Fill Missing Values"
   ]
  },
  {
   "cell_type": "code",
   "execution_count": 25,
   "id": "e7be6471",
   "metadata": {
    "execution": {
     "iopub.execute_input": "2025-01-26T23:33:53.913416Z",
     "iopub.status.busy": "2025-01-26T23:33:53.913061Z",
     "iopub.status.idle": "2025-01-26T23:33:53.920992Z",
     "shell.execute_reply": "2025-01-26T23:33:53.920018Z"
    },
    "papermill": {
     "duration": 0.026006,
     "end_time": "2025-01-26T23:33:53.922794",
     "exception": false,
     "start_time": "2025-01-26T23:33:53.896788",
     "status": "completed"
    },
    "tags": []
   },
   "outputs": [],
   "source": [
    "df = pd.concat([train_df,test_df],axis = 0).reset_index(drop = True)"
   ]
  },
  {
   "cell_type": "code",
   "execution_count": 26,
   "id": "c621b16b",
   "metadata": {
    "execution": {
     "iopub.execute_input": "2025-01-26T23:33:53.955077Z",
     "iopub.status.busy": "2025-01-26T23:33:53.954692Z",
     "iopub.status.idle": "2025-01-26T23:33:53.960278Z",
     "shell.execute_reply": "2025-01-26T23:33:53.959294Z"
    },
    "papermill": {
     "duration": 0.023446,
     "end_time": "2025-01-26T23:33:53.961836",
     "exception": false,
     "start_time": "2025-01-26T23:33:53.938390",
     "status": "completed"
    },
    "tags": []
   },
   "outputs": [],
   "source": [
    "df['IsAdult'] = df['Age'].apply(is_adult)"
   ]
  },
  {
   "cell_type": "markdown",
   "id": "9adf00e9",
   "metadata": {
    "papermill": {
     "duration": 0.015262,
     "end_time": "2025-01-26T23:33:53.992536",
     "exception": false,
     "start_time": "2025-01-26T23:33:53.977274",
     "status": "completed"
    },
    "tags": []
   },
   "source": [
    "## Find Missing Values"
   ]
  },
  {
   "cell_type": "code",
   "execution_count": 27,
   "id": "8adc533d",
   "metadata": {
    "execution": {
     "iopub.execute_input": "2025-01-26T23:33:54.025583Z",
     "iopub.status.busy": "2025-01-26T23:33:54.025236Z",
     "iopub.status.idle": "2025-01-26T23:33:54.040362Z",
     "shell.execute_reply": "2025-01-26T23:33:54.039378Z"
    },
    "papermill": {
     "duration": 0.033199,
     "end_time": "2025-01-26T23:33:54.042045",
     "exception": false,
     "start_time": "2025-01-26T23:33:54.008846",
     "status": "completed"
    },
    "tags": []
   },
   "outputs": [
    {
     "data": {
      "text/html": [
       "<div>\n",
       "<style scoped>\n",
       "    .dataframe tbody tr th:only-of-type {\n",
       "        vertical-align: middle;\n",
       "    }\n",
       "\n",
       "    .dataframe tbody tr th {\n",
       "        vertical-align: top;\n",
       "    }\n",
       "\n",
       "    .dataframe thead th {\n",
       "        text-align: right;\n",
       "    }\n",
       "</style>\n",
       "<table border=\"1\" class=\"dataframe\">\n",
       "  <thead>\n",
       "    <tr style=\"text-align: right;\">\n",
       "      <th></th>\n",
       "      <th>PassengerId</th>\n",
       "      <th>Survived</th>\n",
       "      <th>Pclass</th>\n",
       "      <th>Name</th>\n",
       "      <th>Sex</th>\n",
       "      <th>Age</th>\n",
       "      <th>SibSp</th>\n",
       "      <th>Parch</th>\n",
       "      <th>Ticket</th>\n",
       "      <th>Fare</th>\n",
       "      <th>Cabin</th>\n",
       "      <th>Embarked</th>\n",
       "      <th>IsAdult</th>\n",
       "    </tr>\n",
       "  </thead>\n",
       "  <tbody>\n",
       "    <tr>\n",
       "      <th>0</th>\n",
       "      <td>1</td>\n",
       "      <td>0.00</td>\n",
       "      <td>3</td>\n",
       "      <td>Braund, Mr. Owen Harris</td>\n",
       "      <td>male</td>\n",
       "      <td>22.00</td>\n",
       "      <td>1</td>\n",
       "      <td>0</td>\n",
       "      <td>A/5 21171</td>\n",
       "      <td>7.25</td>\n",
       "      <td>NaN</td>\n",
       "      <td>S</td>\n",
       "      <td>Adult</td>\n",
       "    </tr>\n",
       "    <tr>\n",
       "      <th>1</th>\n",
       "      <td>2</td>\n",
       "      <td>1.00</td>\n",
       "      <td>1</td>\n",
       "      <td>Cumings, Mrs. John Bradley (Florence Briggs Th...</td>\n",
       "      <td>female</td>\n",
       "      <td>38.00</td>\n",
       "      <td>1</td>\n",
       "      <td>0</td>\n",
       "      <td>PC 17599</td>\n",
       "      <td>71.28</td>\n",
       "      <td>C85</td>\n",
       "      <td>C</td>\n",
       "      <td>Adult</td>\n",
       "    </tr>\n",
       "    <tr>\n",
       "      <th>2</th>\n",
       "      <td>3</td>\n",
       "      <td>1.00</td>\n",
       "      <td>3</td>\n",
       "      <td>Heikkinen, Miss. Laina</td>\n",
       "      <td>female</td>\n",
       "      <td>26.00</td>\n",
       "      <td>0</td>\n",
       "      <td>0</td>\n",
       "      <td>STON/O2. 3101282</td>\n",
       "      <td>7.92</td>\n",
       "      <td>NaN</td>\n",
       "      <td>S</td>\n",
       "      <td>Adult</td>\n",
       "    </tr>\n",
       "    <tr>\n",
       "      <th>3</th>\n",
       "      <td>4</td>\n",
       "      <td>1.00</td>\n",
       "      <td>1</td>\n",
       "      <td>Futrelle, Mrs. Jacques Heath (Lily May Peel)</td>\n",
       "      <td>female</td>\n",
       "      <td>35.00</td>\n",
       "      <td>1</td>\n",
       "      <td>0</td>\n",
       "      <td>113803</td>\n",
       "      <td>53.10</td>\n",
       "      <td>C123</td>\n",
       "      <td>S</td>\n",
       "      <td>Adult</td>\n",
       "    </tr>\n",
       "    <tr>\n",
       "      <th>4</th>\n",
       "      <td>5</td>\n",
       "      <td>0.00</td>\n",
       "      <td>3</td>\n",
       "      <td>Allen, Mr. William Henry</td>\n",
       "      <td>male</td>\n",
       "      <td>35.00</td>\n",
       "      <td>0</td>\n",
       "      <td>0</td>\n",
       "      <td>373450</td>\n",
       "      <td>8.05</td>\n",
       "      <td>NaN</td>\n",
       "      <td>S</td>\n",
       "      <td>Adult</td>\n",
       "    </tr>\n",
       "    <tr>\n",
       "      <th>...</th>\n",
       "      <td>...</td>\n",
       "      <td>...</td>\n",
       "      <td>...</td>\n",
       "      <td>...</td>\n",
       "      <td>...</td>\n",
       "      <td>...</td>\n",
       "      <td>...</td>\n",
       "      <td>...</td>\n",
       "      <td>...</td>\n",
       "      <td>...</td>\n",
       "      <td>...</td>\n",
       "      <td>...</td>\n",
       "      <td>...</td>\n",
       "    </tr>\n",
       "    <tr>\n",
       "      <th>1223</th>\n",
       "      <td>1305</td>\n",
       "      <td>NaN</td>\n",
       "      <td>3</td>\n",
       "      <td>Spector, Mr. Woolf</td>\n",
       "      <td>male</td>\n",
       "      <td>NaN</td>\n",
       "      <td>0</td>\n",
       "      <td>0</td>\n",
       "      <td>A.5. 3236</td>\n",
       "      <td>8.05</td>\n",
       "      <td>NaN</td>\n",
       "      <td>S</td>\n",
       "      <td>Child</td>\n",
       "    </tr>\n",
       "    <tr>\n",
       "      <th>1224</th>\n",
       "      <td>1306</td>\n",
       "      <td>NaN</td>\n",
       "      <td>1</td>\n",
       "      <td>Oliva y Ocana, Dona. Fermina</td>\n",
       "      <td>female</td>\n",
       "      <td>39.00</td>\n",
       "      <td>0</td>\n",
       "      <td>0</td>\n",
       "      <td>PC 17758</td>\n",
       "      <td>108.90</td>\n",
       "      <td>C105</td>\n",
       "      <td>C</td>\n",
       "      <td>Adult</td>\n",
       "    </tr>\n",
       "    <tr>\n",
       "      <th>1225</th>\n",
       "      <td>1307</td>\n",
       "      <td>NaN</td>\n",
       "      <td>3</td>\n",
       "      <td>Saether, Mr. Simon Sivertsen</td>\n",
       "      <td>male</td>\n",
       "      <td>38.50</td>\n",
       "      <td>0</td>\n",
       "      <td>0</td>\n",
       "      <td>SOTON/O.Q. 3101262</td>\n",
       "      <td>7.25</td>\n",
       "      <td>NaN</td>\n",
       "      <td>S</td>\n",
       "      <td>Adult</td>\n",
       "    </tr>\n",
       "    <tr>\n",
       "      <th>1226</th>\n",
       "      <td>1308</td>\n",
       "      <td>NaN</td>\n",
       "      <td>3</td>\n",
       "      <td>Ware, Mr. Frederick</td>\n",
       "      <td>male</td>\n",
       "      <td>NaN</td>\n",
       "      <td>0</td>\n",
       "      <td>0</td>\n",
       "      <td>359309</td>\n",
       "      <td>8.05</td>\n",
       "      <td>NaN</td>\n",
       "      <td>S</td>\n",
       "      <td>Child</td>\n",
       "    </tr>\n",
       "    <tr>\n",
       "      <th>1227</th>\n",
       "      <td>1309</td>\n",
       "      <td>NaN</td>\n",
       "      <td>3</td>\n",
       "      <td>Peter, Master. Michael J</td>\n",
       "      <td>male</td>\n",
       "      <td>NaN</td>\n",
       "      <td>1</td>\n",
       "      <td>1</td>\n",
       "      <td>2668</td>\n",
       "      <td>22.36</td>\n",
       "      <td>NaN</td>\n",
       "      <td>C</td>\n",
       "      <td>Child</td>\n",
       "    </tr>\n",
       "  </tbody>\n",
       "</table>\n",
       "<p>1228 rows × 13 columns</p>\n",
       "</div>"
      ],
      "text/plain": [
       "      PassengerId  Survived  Pclass  \\\n",
       "0               1      0.00       3   \n",
       "1               2      1.00       1   \n",
       "2               3      1.00       3   \n",
       "3               4      1.00       1   \n",
       "4               5      0.00       3   \n",
       "...           ...       ...     ...   \n",
       "1223         1305       NaN       3   \n",
       "1224         1306       NaN       1   \n",
       "1225         1307       NaN       3   \n",
       "1226         1308       NaN       3   \n",
       "1227         1309       NaN       3   \n",
       "\n",
       "                                                   Name     Sex   Age  SibSp  \\\n",
       "0                               Braund, Mr. Owen Harris    male 22.00      1   \n",
       "1     Cumings, Mrs. John Bradley (Florence Briggs Th...  female 38.00      1   \n",
       "2                                Heikkinen, Miss. Laina  female 26.00      0   \n",
       "3          Futrelle, Mrs. Jacques Heath (Lily May Peel)  female 35.00      1   \n",
       "4                              Allen, Mr. William Henry    male 35.00      0   \n",
       "...                                                 ...     ...   ...    ...   \n",
       "1223                                 Spector, Mr. Woolf    male   NaN      0   \n",
       "1224                       Oliva y Ocana, Dona. Fermina  female 39.00      0   \n",
       "1225                       Saether, Mr. Simon Sivertsen    male 38.50      0   \n",
       "1226                                Ware, Mr. Frederick    male   NaN      0   \n",
       "1227                           Peter, Master. Michael J    male   NaN      1   \n",
       "\n",
       "      Parch              Ticket   Fare Cabin Embarked IsAdult  \n",
       "0         0           A/5 21171   7.25   NaN        S   Adult  \n",
       "1         0            PC 17599  71.28   C85        C   Adult  \n",
       "2         0    STON/O2. 3101282   7.92   NaN        S   Adult  \n",
       "3         0              113803  53.10  C123        S   Adult  \n",
       "4         0              373450   8.05   NaN        S   Adult  \n",
       "...     ...                 ...    ...   ...      ...     ...  \n",
       "1223      0           A.5. 3236   8.05   NaN        S   Child  \n",
       "1224      0            PC 17758 108.90  C105        C   Adult  \n",
       "1225      0  SOTON/O.Q. 3101262   7.25   NaN        S   Adult  \n",
       "1226      0              359309   8.05   NaN        S   Child  \n",
       "1227      1                2668  22.36   NaN        C   Child  \n",
       "\n",
       "[1228 rows x 13 columns]"
      ]
     },
     "execution_count": 27,
     "metadata": {},
     "output_type": "execute_result"
    }
   ],
   "source": [
    "df"
   ]
  },
  {
   "cell_type": "code",
   "execution_count": 28,
   "id": "162058da",
   "metadata": {
    "execution": {
     "iopub.execute_input": "2025-01-26T23:33:54.075786Z",
     "iopub.status.busy": "2025-01-26T23:33:54.075390Z",
     "iopub.status.idle": "2025-01-26T23:33:54.083484Z",
     "shell.execute_reply": "2025-01-26T23:33:54.082275Z"
    },
    "papermill": {
     "duration": 0.027079,
     "end_time": "2025-01-26T23:33:54.085246",
     "exception": false,
     "start_time": "2025-01-26T23:33:54.058167",
     "status": "completed"
    },
    "tags": []
   },
   "outputs": [
    {
     "data": {
      "text/plain": [
       "Index(['Survived', 'Age', 'Fare', 'Cabin', 'Embarked'], dtype='object')"
      ]
     },
     "execution_count": 28,
     "metadata": {},
     "output_type": "execute_result"
    }
   ],
   "source": [
    "# Learning which columns have missing values\n",
    "df.columns[df.isnull().any()]"
   ]
  },
  {
   "cell_type": "code",
   "execution_count": 29,
   "id": "8aa095a5",
   "metadata": {
    "execution": {
     "iopub.execute_input": "2025-01-26T23:33:54.118554Z",
     "iopub.status.busy": "2025-01-26T23:33:54.118165Z",
     "iopub.status.idle": "2025-01-26T23:33:54.126114Z",
     "shell.execute_reply": "2025-01-26T23:33:54.125161Z"
    },
    "papermill": {
     "duration": 0.026462,
     "end_time": "2025-01-26T23:33:54.127696",
     "exception": false,
     "start_time": "2025-01-26T23:33:54.101234",
     "status": "completed"
    },
    "tags": []
   },
   "outputs": [
    {
     "data": {
      "text/plain": [
       "PassengerId      0\n",
       "Survived       418\n",
       "Pclass           0\n",
       "Name             0\n",
       "Sex              0\n",
       "Age            252\n",
       "SibSp            0\n",
       "Parch            0\n",
       "Ticket           0\n",
       "Fare             1\n",
       "Cabin          972\n",
       "Embarked         2\n",
       "IsAdult          0\n",
       "dtype: int64"
      ]
     },
     "execution_count": 29,
     "metadata": {},
     "output_type": "execute_result"
    }
   ],
   "source": [
    "df.isnull().sum()"
   ]
  },
  {
   "cell_type": "markdown",
   "id": "8a949b12",
   "metadata": {
    "papermill": {
     "duration": 0.015844,
     "end_time": "2025-01-26T23:33:54.159587",
     "exception": false,
     "start_time": "2025-01-26T23:33:54.143743",
     "status": "completed"
    },
    "tags": []
   },
   "source": [
    "## Fill Missing Values\n",
    "* Embark has 2 missing values\n",
    "* Fare has 1 missing value"
   ]
  },
  {
   "cell_type": "code",
   "execution_count": 30,
   "id": "052c5b68",
   "metadata": {
    "execution": {
     "iopub.execute_input": "2025-01-26T23:33:54.193617Z",
     "iopub.status.busy": "2025-01-26T23:33:54.193207Z",
     "iopub.status.idle": "2025-01-26T23:33:54.208625Z",
     "shell.execute_reply": "2025-01-26T23:33:54.207530Z"
    },
    "papermill": {
     "duration": 0.034775,
     "end_time": "2025-01-26T23:33:54.210461",
     "exception": false,
     "start_time": "2025-01-26T23:33:54.175686",
     "status": "completed"
    },
    "tags": []
   },
   "outputs": [
    {
     "data": {
      "text/html": [
       "<div>\n",
       "<style scoped>\n",
       "    .dataframe tbody tr th:only-of-type {\n",
       "        vertical-align: middle;\n",
       "    }\n",
       "\n",
       "    .dataframe tbody tr th {\n",
       "        vertical-align: top;\n",
       "    }\n",
       "\n",
       "    .dataframe thead th {\n",
       "        text-align: right;\n",
       "    }\n",
       "</style>\n",
       "<table border=\"1\" class=\"dataframe\">\n",
       "  <thead>\n",
       "    <tr style=\"text-align: right;\">\n",
       "      <th></th>\n",
       "      <th>PassengerId</th>\n",
       "      <th>Survived</th>\n",
       "      <th>Pclass</th>\n",
       "      <th>Name</th>\n",
       "      <th>Sex</th>\n",
       "      <th>Age</th>\n",
       "      <th>SibSp</th>\n",
       "      <th>Parch</th>\n",
       "      <th>Ticket</th>\n",
       "      <th>Fare</th>\n",
       "      <th>Cabin</th>\n",
       "      <th>Embarked</th>\n",
       "      <th>IsAdult</th>\n",
       "    </tr>\n",
       "  </thead>\n",
       "  <tbody>\n",
       "    <tr>\n",
       "      <th>55</th>\n",
       "      <td>62</td>\n",
       "      <td>1.00</td>\n",
       "      <td>1</td>\n",
       "      <td>Icard, Miss. Amelie</td>\n",
       "      <td>female</td>\n",
       "      <td>38.00</td>\n",
       "      <td>0</td>\n",
       "      <td>0</td>\n",
       "      <td>113572</td>\n",
       "      <td>80.00</td>\n",
       "      <td>B28</td>\n",
       "      <td>NaN</td>\n",
       "      <td>Adult</td>\n",
       "    </tr>\n",
       "    <tr>\n",
       "      <th>754</th>\n",
       "      <td>830</td>\n",
       "      <td>1.00</td>\n",
       "      <td>1</td>\n",
       "      <td>Stone, Mrs. George Nelson (Martha Evelyn)</td>\n",
       "      <td>female</td>\n",
       "      <td>62.00</td>\n",
       "      <td>0</td>\n",
       "      <td>0</td>\n",
       "      <td>113572</td>\n",
       "      <td>80.00</td>\n",
       "      <td>B28</td>\n",
       "      <td>NaN</td>\n",
       "      <td>Adult</td>\n",
       "    </tr>\n",
       "  </tbody>\n",
       "</table>\n",
       "</div>"
      ],
      "text/plain": [
       "     PassengerId  Survived  Pclass                                       Name  \\\n",
       "55            62      1.00       1                        Icard, Miss. Amelie   \n",
       "754          830      1.00       1  Stone, Mrs. George Nelson (Martha Evelyn)   \n",
       "\n",
       "        Sex   Age  SibSp  Parch  Ticket  Fare Cabin Embarked IsAdult  \n",
       "55   female 38.00      0      0  113572 80.00   B28      NaN   Adult  \n",
       "754  female 62.00      0      0  113572 80.00   B28      NaN   Adult  "
      ]
     },
     "execution_count": 30,
     "metadata": {},
     "output_type": "execute_result"
    }
   ],
   "source": [
    "df[df.Embarked.isnull()]"
   ]
  },
  {
   "cell_type": "code",
   "execution_count": 31,
   "id": "28c7f942",
   "metadata": {
    "execution": {
     "iopub.execute_input": "2025-01-26T23:33:54.244531Z",
     "iopub.status.busy": "2025-01-26T23:33:54.244143Z",
     "iopub.status.idle": "2025-01-26T23:33:54.255726Z",
     "shell.execute_reply": "2025-01-26T23:33:54.254627Z"
    },
    "papermill": {
     "duration": 0.030855,
     "end_time": "2025-01-26T23:33:54.257518",
     "exception": false,
     "start_time": "2025-01-26T23:33:54.226663",
     "status": "completed"
    },
    "tags": []
   },
   "outputs": [],
   "source": [
    "# Define the tolerance range (e.g., ±5 units)\n",
    "tolerance = 5\n",
    "\n",
    "# Rows with missing values in the 'Embarked' column\n",
    "missing_embarked = df[df['Embarked'].isnull()]\n",
    "\n",
    "for index, row in missing_embarked.iterrows():\n",
    "    # Filter passengers with a similar Fare within the defined tolerance\n",
    "    similar_fare_passengers = df[\n",
    "        (df['Fare'] >= row['Fare'] - tolerance) & \n",
    "        (df['Fare'] <= row['Fare'] + tolerance) &\n",
    "        (df['Embarked'].notnull())  # Ensure 'Embarked' is not null\n",
    "    ]\n",
    "    \n",
    "    # If there are similar passengers, assign the mode of their 'Embarked' values\n",
    "    if not similar_fare_passengers.empty:\n",
    "        df.at[index, 'Embarked'] = similar_fare_passengers['Embarked'].mode()[0]\n",
    "    else:\n",
    "        print(\"Increase Tolerance!\")"
   ]
  },
  {
   "cell_type": "code",
   "execution_count": 32,
   "id": "ab4540e5",
   "metadata": {
    "execution": {
     "iopub.execute_input": "2025-01-26T23:33:54.291300Z",
     "iopub.status.busy": "2025-01-26T23:33:54.290852Z",
     "iopub.status.idle": "2025-01-26T23:33:54.300706Z",
     "shell.execute_reply": "2025-01-26T23:33:54.299851Z"
    },
    "papermill": {
     "duration": 0.028395,
     "end_time": "2025-01-26T23:33:54.302222",
     "exception": false,
     "start_time": "2025-01-26T23:33:54.273827",
     "status": "completed"
    },
    "tags": []
   },
   "outputs": [
    {
     "data": {
      "text/html": [
       "<div>\n",
       "<style scoped>\n",
       "    .dataframe tbody tr th:only-of-type {\n",
       "        vertical-align: middle;\n",
       "    }\n",
       "\n",
       "    .dataframe tbody tr th {\n",
       "        vertical-align: top;\n",
       "    }\n",
       "\n",
       "    .dataframe thead th {\n",
       "        text-align: right;\n",
       "    }\n",
       "</style>\n",
       "<table border=\"1\" class=\"dataframe\">\n",
       "  <thead>\n",
       "    <tr style=\"text-align: right;\">\n",
       "      <th></th>\n",
       "      <th>PassengerId</th>\n",
       "      <th>Survived</th>\n",
       "      <th>Pclass</th>\n",
       "      <th>Name</th>\n",
       "      <th>Sex</th>\n",
       "      <th>Age</th>\n",
       "      <th>SibSp</th>\n",
       "      <th>Parch</th>\n",
       "      <th>Ticket</th>\n",
       "      <th>Fare</th>\n",
       "      <th>Cabin</th>\n",
       "      <th>Embarked</th>\n",
       "      <th>IsAdult</th>\n",
       "    </tr>\n",
       "  </thead>\n",
       "  <tbody>\n",
       "  </tbody>\n",
       "</table>\n",
       "</div>"
      ],
      "text/plain": [
       "Empty DataFrame\n",
       "Columns: [PassengerId, Survived, Pclass, Name, Sex, Age, SibSp, Parch, Ticket, Fare, Cabin, Embarked, IsAdult]\n",
       "Index: []"
      ]
     },
     "execution_count": 32,
     "metadata": {},
     "output_type": "execute_result"
    }
   ],
   "source": [
    "df[df.Embarked.isnull()]"
   ]
  },
  {
   "cell_type": "code",
   "execution_count": 33,
   "id": "0754c6d2",
   "metadata": {
    "execution": {
     "iopub.execute_input": "2025-01-26T23:33:54.336081Z",
     "iopub.status.busy": "2025-01-26T23:33:54.335672Z",
     "iopub.status.idle": "2025-01-26T23:33:54.348911Z",
     "shell.execute_reply": "2025-01-26T23:33:54.347911Z"
    },
    "papermill": {
     "duration": 0.031804,
     "end_time": "2025-01-26T23:33:54.350382",
     "exception": false,
     "start_time": "2025-01-26T23:33:54.318578",
     "status": "completed"
    },
    "tags": []
   },
   "outputs": [
    {
     "data": {
      "text/html": [
       "<div>\n",
       "<style scoped>\n",
       "    .dataframe tbody tr th:only-of-type {\n",
       "        vertical-align: middle;\n",
       "    }\n",
       "\n",
       "    .dataframe tbody tr th {\n",
       "        vertical-align: top;\n",
       "    }\n",
       "\n",
       "    .dataframe thead th {\n",
       "        text-align: right;\n",
       "    }\n",
       "</style>\n",
       "<table border=\"1\" class=\"dataframe\">\n",
       "  <thead>\n",
       "    <tr style=\"text-align: right;\">\n",
       "      <th></th>\n",
       "      <th>PassengerId</th>\n",
       "      <th>Survived</th>\n",
       "      <th>Pclass</th>\n",
       "      <th>Name</th>\n",
       "      <th>Sex</th>\n",
       "      <th>Age</th>\n",
       "      <th>SibSp</th>\n",
       "      <th>Parch</th>\n",
       "      <th>Ticket</th>\n",
       "      <th>Fare</th>\n",
       "      <th>Cabin</th>\n",
       "      <th>Embarked</th>\n",
       "      <th>IsAdult</th>\n",
       "    </tr>\n",
       "  </thead>\n",
       "  <tbody>\n",
       "    <tr>\n",
       "      <th>962</th>\n",
       "      <td>1044</td>\n",
       "      <td>NaN</td>\n",
       "      <td>3</td>\n",
       "      <td>Storey, Mr. Thomas</td>\n",
       "      <td>male</td>\n",
       "      <td>60.50</td>\n",
       "      <td>0</td>\n",
       "      <td>0</td>\n",
       "      <td>3701</td>\n",
       "      <td>NaN</td>\n",
       "      <td>NaN</td>\n",
       "      <td>S</td>\n",
       "      <td>Adult</td>\n",
       "    </tr>\n",
       "  </tbody>\n",
       "</table>\n",
       "</div>"
      ],
      "text/plain": [
       "     PassengerId  Survived  Pclass                Name   Sex   Age  SibSp  \\\n",
       "962         1044       NaN       3  Storey, Mr. Thomas  male 60.50      0   \n",
       "\n",
       "     Parch Ticket  Fare Cabin Embarked IsAdult  \n",
       "962      0   3701   NaN   NaN        S   Adult  "
      ]
     },
     "execution_count": 33,
     "metadata": {},
     "output_type": "execute_result"
    }
   ],
   "source": [
    "empty_fare_passangers = df[df[\"Fare\"].isnull()]\n",
    "\n",
    "empty_fare_passangers"
   ]
  },
  {
   "cell_type": "code",
   "execution_count": 34,
   "id": "1681e239",
   "metadata": {
    "execution": {
     "iopub.execute_input": "2025-01-26T23:33:54.384388Z",
     "iopub.status.busy": "2025-01-26T23:33:54.384049Z",
     "iopub.status.idle": "2025-01-26T23:33:54.390361Z",
     "shell.execute_reply": "2025-01-26T23:33:54.389501Z"
    },
    "papermill": {
     "duration": 0.025054,
     "end_time": "2025-01-26T23:33:54.391921",
     "exception": false,
     "start_time": "2025-01-26T23:33:54.366867",
     "status": "completed"
    },
    "tags": []
   },
   "outputs": [],
   "source": [
    "for index, row in empty_fare_passangers.iterrows():\n",
    "    mean_fare_by_pclass = np.mean(df[df.Pclass==row.Pclass].Fare)\n",
    "    df.at[index, \"Fare\"] = mean_fare_by_pclass"
   ]
  },
  {
   "cell_type": "code",
   "execution_count": 35,
   "id": "b1edc90c",
   "metadata": {
    "execution": {
     "iopub.execute_input": "2025-01-26T23:33:54.425839Z",
     "iopub.status.busy": "2025-01-26T23:33:54.425508Z",
     "iopub.status.idle": "2025-01-26T23:33:54.435277Z",
     "shell.execute_reply": "2025-01-26T23:33:54.434248Z"
    },
    "papermill": {
     "duration": 0.028666,
     "end_time": "2025-01-26T23:33:54.436916",
     "exception": false,
     "start_time": "2025-01-26T23:33:54.408250",
     "status": "completed"
    },
    "tags": []
   },
   "outputs": [
    {
     "data": {
      "text/html": [
       "<div>\n",
       "<style scoped>\n",
       "    .dataframe tbody tr th:only-of-type {\n",
       "        vertical-align: middle;\n",
       "    }\n",
       "\n",
       "    .dataframe tbody tr th {\n",
       "        vertical-align: top;\n",
       "    }\n",
       "\n",
       "    .dataframe thead th {\n",
       "        text-align: right;\n",
       "    }\n",
       "</style>\n",
       "<table border=\"1\" class=\"dataframe\">\n",
       "  <thead>\n",
       "    <tr style=\"text-align: right;\">\n",
       "      <th></th>\n",
       "      <th>PassengerId</th>\n",
       "      <th>Survived</th>\n",
       "      <th>Pclass</th>\n",
       "      <th>Name</th>\n",
       "      <th>Sex</th>\n",
       "      <th>Age</th>\n",
       "      <th>SibSp</th>\n",
       "      <th>Parch</th>\n",
       "      <th>Ticket</th>\n",
       "      <th>Fare</th>\n",
       "      <th>Cabin</th>\n",
       "      <th>Embarked</th>\n",
       "      <th>IsAdult</th>\n",
       "    </tr>\n",
       "  </thead>\n",
       "  <tbody>\n",
       "  </tbody>\n",
       "</table>\n",
       "</div>"
      ],
      "text/plain": [
       "Empty DataFrame\n",
       "Columns: [PassengerId, Survived, Pclass, Name, Sex, Age, SibSp, Parch, Ticket, Fare, Cabin, Embarked, IsAdult]\n",
       "Index: []"
      ]
     },
     "execution_count": 35,
     "metadata": {},
     "output_type": "execute_result"
    }
   ],
   "source": [
    "df[df[\"Fare\"].isnull()]"
   ]
  }
 ],
 "metadata": {
  "kaggle": {
   "accelerator": "none",
   "dataSources": [
    {
     "databundleVersionId": 26502,
     "sourceId": 3136,
     "sourceType": "competition"
    }
   ],
   "dockerImageVersionId": 30839,
   "isGpuEnabled": false,
   "isInternetEnabled": true,
   "language": "python",
   "sourceType": "notebook"
  },
  "kernelspec": {
   "display_name": "Python 3",
   "language": "python",
   "name": "python3"
  },
  "language_info": {
   "codemirror_mode": {
    "name": "ipython",
    "version": 3
   },
   "file_extension": ".py",
   "mimetype": "text/x-python",
   "name": "python",
   "nbconvert_exporter": "python",
   "pygments_lexer": "ipython3",
   "version": "3.10.12"
  },
  "papermill": {
   "default_parameters": {},
   "duration": 11.269944,
   "end_time": "2025-01-26T23:33:55.377361",
   "environment_variables": {},
   "exception": null,
   "input_path": "__notebook__.ipynb",
   "output_path": "__notebook__.ipynb",
   "parameters": {},
   "start_time": "2025-01-26T23:33:44.107417",
   "version": "2.6.0"
  }
 },
 "nbformat": 4,
 "nbformat_minor": 5
}
